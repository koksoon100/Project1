{
 "cells": [
  {
   "cell_type": "markdown",
   "metadata": {},
   "source": [
    "# 1.0 Load libraries"
   ]
  },
  {
   "cell_type": "code",
   "execution_count": 1,
   "metadata": {},
   "outputs": [],
   "source": [
    "%matplotlib inline\n",
    "import numpy as np\n",
    "import pandas as pd\n",
    "import seaborn as sns\n",
    "from sklearn.pipeline import Pipeline \n",
    "from matplotlib import pyplot as plt\n",
    "import warnings\n",
    "warnings.filterwarnings(\"ignore\")"
   ]
  },
  {
   "cell_type": "code",
   "execution_count": 2,
   "metadata": {},
   "outputs": [],
   "source": [
    "concrete_data = pd.read_csv(\"concrete.csv\") # read a cvs file that contains the dataset for a bank"
   ]
  },
  {
   "cell_type": "code",
   "execution_count": 3,
   "metadata": {},
   "outputs": [
    {
     "name": "stdout",
     "output_type": "stream",
     "text": [
      "<class 'pandas.core.frame.DataFrame'>\n",
      "RangeIndex: 1030 entries, 0 to 1029\n",
      "Data columns (total 9 columns):\n",
      "cement          1030 non-null float64\n",
      "slag            1030 non-null float64\n",
      "ash             1030 non-null float64\n",
      "water           1030 non-null float64\n",
      "superplastic    1030 non-null float64\n",
      "coarseagg       1030 non-null float64\n",
      "fineagg         1030 non-null float64\n",
      "age             1030 non-null int64\n",
      "strength        1030 non-null float64\n",
      "dtypes: float64(8), int64(1)\n",
      "memory usage: 72.5 KB\n"
     ]
    }
   ],
   "source": [
    "concrete_data.info()"
   ]
  },
  {
   "cell_type": "markdown",
   "metadata": {},
   "source": [
    "# 2.0 Univariate analysis (10 marks)"
   ]
  },
  {
   "cell_type": "markdown",
   "metadata": {},
   "source": [
    "Univariate analysis – data types and description of the independent attributes which should include (name, meaning, range of values observed, central values (mean and median), standard deviation and quartiles, analysis of the body of distributions / tails, missing values, outliers (10 Marks)"
   ]
  },
  {
   "cell_type": "markdown",
   "metadata": {},
   "source": [
    "## 2.1 Name and meaning"
   ]
  },
  {
   "cell_type": "code",
   "execution_count": 4,
   "metadata": {},
   "outputs": [
    {
     "data": {
      "text/html": [
       "<div>\n",
       "<style scoped>\n",
       "    .dataframe tbody tr th:only-of-type {\n",
       "        vertical-align: middle;\n",
       "    }\n",
       "\n",
       "    .dataframe tbody tr th {\n",
       "        vertical-align: top;\n",
       "    }\n",
       "\n",
       "    .dataframe thead th {\n",
       "        text-align: right;\n",
       "    }\n",
       "</style>\n",
       "<table border=\"1\" class=\"dataframe\">\n",
       "  <thead>\n",
       "    <tr style=\"text-align: right;\">\n",
       "      <th></th>\n",
       "      <th>cement</th>\n",
       "      <th>slag</th>\n",
       "      <th>ash</th>\n",
       "      <th>water</th>\n",
       "      <th>superplastic</th>\n",
       "      <th>coarseagg</th>\n",
       "      <th>fineagg</th>\n",
       "      <th>age</th>\n",
       "      <th>strength</th>\n",
       "    </tr>\n",
       "  </thead>\n",
       "  <tbody>\n",
       "    <tr>\n",
       "      <th>0</th>\n",
       "      <td>141.3</td>\n",
       "      <td>212.0</td>\n",
       "      <td>0.0</td>\n",
       "      <td>203.5</td>\n",
       "      <td>0.0</td>\n",
       "      <td>971.8</td>\n",
       "      <td>748.5</td>\n",
       "      <td>28</td>\n",
       "      <td>29.89</td>\n",
       "    </tr>\n",
       "    <tr>\n",
       "      <th>1</th>\n",
       "      <td>168.9</td>\n",
       "      <td>42.2</td>\n",
       "      <td>124.3</td>\n",
       "      <td>158.3</td>\n",
       "      <td>10.8</td>\n",
       "      <td>1080.8</td>\n",
       "      <td>796.2</td>\n",
       "      <td>14</td>\n",
       "      <td>23.51</td>\n",
       "    </tr>\n",
       "    <tr>\n",
       "      <th>2</th>\n",
       "      <td>250.0</td>\n",
       "      <td>0.0</td>\n",
       "      <td>95.7</td>\n",
       "      <td>187.4</td>\n",
       "      <td>5.5</td>\n",
       "      <td>956.9</td>\n",
       "      <td>861.2</td>\n",
       "      <td>28</td>\n",
       "      <td>29.22</td>\n",
       "    </tr>\n",
       "    <tr>\n",
       "      <th>3</th>\n",
       "      <td>266.0</td>\n",
       "      <td>114.0</td>\n",
       "      <td>0.0</td>\n",
       "      <td>228.0</td>\n",
       "      <td>0.0</td>\n",
       "      <td>932.0</td>\n",
       "      <td>670.0</td>\n",
       "      <td>28</td>\n",
       "      <td>45.85</td>\n",
       "    </tr>\n",
       "    <tr>\n",
       "      <th>4</th>\n",
       "      <td>154.8</td>\n",
       "      <td>183.4</td>\n",
       "      <td>0.0</td>\n",
       "      <td>193.3</td>\n",
       "      <td>9.1</td>\n",
       "      <td>1047.4</td>\n",
       "      <td>696.7</td>\n",
       "      <td>28</td>\n",
       "      <td>18.29</td>\n",
       "    </tr>\n",
       "  </tbody>\n",
       "</table>\n",
       "</div>"
      ],
      "text/plain": [
       "   cement   slag    ash  water  superplastic  coarseagg  fineagg  age  \\\n",
       "0   141.3  212.0    0.0  203.5           0.0      971.8    748.5   28   \n",
       "1   168.9   42.2  124.3  158.3          10.8     1080.8    796.2   14   \n",
       "2   250.0    0.0   95.7  187.4           5.5      956.9    861.2   28   \n",
       "3   266.0  114.0    0.0  228.0           0.0      932.0    670.0   28   \n",
       "4   154.8  183.4    0.0  193.3           9.1     1047.4    696.7   28   \n",
       "\n",
       "   strength  \n",
       "0     29.89  \n",
       "1     23.51  \n",
       "2     29.22  \n",
       "3     45.85  \n",
       "4     18.29  "
      ]
     },
     "execution_count": 4,
     "metadata": {},
     "output_type": "execute_result"
    }
   ],
   "source": [
    "concrete_data.head() # To show a few rows of features and target data"
   ]
  },
  {
   "cell_type": "code",
   "execution_count": 5,
   "metadata": {},
   "outputs": [
    {
     "name": "stdout",
     "output_type": "stream",
     "text": [
      "<class 'pandas.core.frame.DataFrame'>\n",
      "RangeIndex: 1030 entries, 0 to 1029\n",
      "Data columns (total 9 columns):\n",
      "cement          1030 non-null float64\n",
      "slag            1030 non-null float64\n",
      "ash             1030 non-null float64\n",
      "water           1030 non-null float64\n",
      "superplastic    1030 non-null float64\n",
      "coarseagg       1030 non-null float64\n",
      "fineagg         1030 non-null float64\n",
      "age             1030 non-null int64\n",
      "strength        1030 non-null float64\n",
      "dtypes: float64(8), int64(1)\n",
      "memory usage: 72.5 KB\n"
     ]
    }
   ],
   "source": [
    "concrete_data.info() # To understand the data type and evaluate any missing data"
   ]
  },
  {
   "cell_type": "markdown",
   "metadata": {},
   "source": [
    "|Feature|Meaning|\n",
    "|---|---|\n",
    "|Cement (cement) |quantitative -- kg in a m3 mixture -- Input Variable|\n",
    "|Blast Furnace Slag (slag)|quantitative -- kg in a m3 mixture -- Input Variable|\n",
    "|Fly Ash (ash)|quantitative -- kg in a m3 mixture -- Input Variable|\n",
    "|Water (water)|quantitative -- kg in a m3 mixture -- Input Variable| \n",
    "|Superplasticizer (superplastic)| quantitative -- kg in a m3 mixture -- Input Variable| \n",
    "|Coarse Aggregate (coarseagg)|quantitative -- kg in a m3 mixture -- Input Variabler| \n",
    "|Fine Aggregate (fineagg)|quantitative -- kg in a m3 mixture -- Input Variable |\n",
    "|Age(age)|quantitative -- Day (1~365) -- Input Variable | \n",
    "|**Concrete compressive strength(strength)**|**quantitative -- MPa -- Output Variable**|\n",
    "\n",
    "\n",
    "Given are the variable name, variable type, the measurement unit and a brief description. The concrete compressive strength is the regression problem. The order of this listing corresponds to the order of numerals along the rows of the database."
   ]
  },
  {
   "cell_type": "markdown",
   "metadata": {},
   "source": [
    "## 2.2 Range of values observed for continuous variables"
   ]
  },
  {
   "cell_type": "code",
   "execution_count": 6,
   "metadata": {},
   "outputs": [
    {
     "data": {
      "text/html": [
       "<div>\n",
       "<style scoped>\n",
       "    .dataframe tbody tr th:only-of-type {\n",
       "        vertical-align: middle;\n",
       "    }\n",
       "\n",
       "    .dataframe tbody tr th {\n",
       "        vertical-align: top;\n",
       "    }\n",
       "\n",
       "    .dataframe thead th {\n",
       "        text-align: right;\n",
       "    }\n",
       "</style>\n",
       "<table border=\"1\" class=\"dataframe\">\n",
       "  <thead>\n",
       "    <tr style=\"text-align: right;\">\n",
       "      <th></th>\n",
       "      <th>cement</th>\n",
       "      <th>slag</th>\n",
       "      <th>ash</th>\n",
       "      <th>water</th>\n",
       "      <th>superplastic</th>\n",
       "      <th>coarseagg</th>\n",
       "      <th>fineagg</th>\n",
       "      <th>age</th>\n",
       "      <th>strength</th>\n",
       "    </tr>\n",
       "  </thead>\n",
       "  <tbody>\n",
       "    <tr>\n",
       "      <th>count</th>\n",
       "      <td>1030.000000</td>\n",
       "      <td>1030.000000</td>\n",
       "      <td>1030.000000</td>\n",
       "      <td>1030.000000</td>\n",
       "      <td>1030.000000</td>\n",
       "      <td>1030.000000</td>\n",
       "      <td>1030.000000</td>\n",
       "      <td>1030.000000</td>\n",
       "      <td>1030.000000</td>\n",
       "    </tr>\n",
       "    <tr>\n",
       "      <th>mean</th>\n",
       "      <td>281.167864</td>\n",
       "      <td>73.895825</td>\n",
       "      <td>54.188350</td>\n",
       "      <td>181.567282</td>\n",
       "      <td>6.204660</td>\n",
       "      <td>972.918932</td>\n",
       "      <td>773.580485</td>\n",
       "      <td>45.662136</td>\n",
       "      <td>35.817961</td>\n",
       "    </tr>\n",
       "    <tr>\n",
       "      <th>std</th>\n",
       "      <td>104.506364</td>\n",
       "      <td>86.279342</td>\n",
       "      <td>63.997004</td>\n",
       "      <td>21.354219</td>\n",
       "      <td>5.973841</td>\n",
       "      <td>77.753954</td>\n",
       "      <td>80.175980</td>\n",
       "      <td>63.169912</td>\n",
       "      <td>16.705742</td>\n",
       "    </tr>\n",
       "    <tr>\n",
       "      <th>min</th>\n",
       "      <td>102.000000</td>\n",
       "      <td>0.000000</td>\n",
       "      <td>0.000000</td>\n",
       "      <td>121.800000</td>\n",
       "      <td>0.000000</td>\n",
       "      <td>801.000000</td>\n",
       "      <td>594.000000</td>\n",
       "      <td>1.000000</td>\n",
       "      <td>2.330000</td>\n",
       "    </tr>\n",
       "    <tr>\n",
       "      <th>25%</th>\n",
       "      <td>192.375000</td>\n",
       "      <td>0.000000</td>\n",
       "      <td>0.000000</td>\n",
       "      <td>164.900000</td>\n",
       "      <td>0.000000</td>\n",
       "      <td>932.000000</td>\n",
       "      <td>730.950000</td>\n",
       "      <td>7.000000</td>\n",
       "      <td>23.710000</td>\n",
       "    </tr>\n",
       "    <tr>\n",
       "      <th>50%</th>\n",
       "      <td>272.900000</td>\n",
       "      <td>22.000000</td>\n",
       "      <td>0.000000</td>\n",
       "      <td>185.000000</td>\n",
       "      <td>6.400000</td>\n",
       "      <td>968.000000</td>\n",
       "      <td>779.500000</td>\n",
       "      <td>28.000000</td>\n",
       "      <td>34.445000</td>\n",
       "    </tr>\n",
       "    <tr>\n",
       "      <th>75%</th>\n",
       "      <td>350.000000</td>\n",
       "      <td>142.950000</td>\n",
       "      <td>118.300000</td>\n",
       "      <td>192.000000</td>\n",
       "      <td>10.200000</td>\n",
       "      <td>1029.400000</td>\n",
       "      <td>824.000000</td>\n",
       "      <td>56.000000</td>\n",
       "      <td>46.135000</td>\n",
       "    </tr>\n",
       "    <tr>\n",
       "      <th>max</th>\n",
       "      <td>540.000000</td>\n",
       "      <td>359.400000</td>\n",
       "      <td>200.100000</td>\n",
       "      <td>247.000000</td>\n",
       "      <td>32.200000</td>\n",
       "      <td>1145.000000</td>\n",
       "      <td>992.600000</td>\n",
       "      <td>365.000000</td>\n",
       "      <td>82.600000</td>\n",
       "    </tr>\n",
       "  </tbody>\n",
       "</table>\n",
       "</div>"
      ],
      "text/plain": [
       "            cement         slag          ash        water  superplastic  \\\n",
       "count  1030.000000  1030.000000  1030.000000  1030.000000   1030.000000   \n",
       "mean    281.167864    73.895825    54.188350   181.567282      6.204660   \n",
       "std     104.506364    86.279342    63.997004    21.354219      5.973841   \n",
       "min     102.000000     0.000000     0.000000   121.800000      0.000000   \n",
       "25%     192.375000     0.000000     0.000000   164.900000      0.000000   \n",
       "50%     272.900000    22.000000     0.000000   185.000000      6.400000   \n",
       "75%     350.000000   142.950000   118.300000   192.000000     10.200000   \n",
       "max     540.000000   359.400000   200.100000   247.000000     32.200000   \n",
       "\n",
       "         coarseagg      fineagg          age     strength  \n",
       "count  1030.000000  1030.000000  1030.000000  1030.000000  \n",
       "mean    972.918932   773.580485    45.662136    35.817961  \n",
       "std      77.753954    80.175980    63.169912    16.705742  \n",
       "min     801.000000   594.000000     1.000000     2.330000  \n",
       "25%     932.000000   730.950000     7.000000    23.710000  \n",
       "50%     968.000000   779.500000    28.000000    34.445000  \n",
       "75%    1029.400000   824.000000    56.000000    46.135000  \n",
       "max    1145.000000   992.600000   365.000000    82.600000  "
      ]
     },
     "execution_count": 6,
     "metadata": {},
     "output_type": "execute_result"
    }
   ],
   "source": [
    "concrete_data.describe() # Statistic values of continuous variables"
   ]
  },
  {
   "cell_type": "code",
   "execution_count": 7,
   "metadata": {},
   "outputs": [
    {
     "name": "stdout",
     "output_type": "stream",
     "text": [
      "median of cement = 272.9, and mean of cement = 281.1678640776698, Number of outliers = 0\n",
      "median of slag = 22.0, and mean of slag = 73.89582524271844, Number of outliers = 8\n",
      "median of ash = 0.0, and mean of ash = 54.188349514563086, Number of outliers = 0\n",
      "median of water = 185.0, and mean of water = 181.56728155339798, Number of outliers = 4\n",
      "median of superplastic = 6.4, and mean of superplastic = 6.204660194174756, Number of outliers = 20\n",
      "median of coarseagg = 968.0, and mean of coarseagg = 972.918932038835, Number of outliers = 0\n",
      "median of fineagg = 779.5, and mean of fineagg = 773.5804854368932, Number of outliers = 0\n",
      "median of age = 28.0, and mean of age = 45.662135922330094, Number of outliers = 66\n",
      "median of strength = 34.445, and mean of strength = 35.81796116504854, Number of outliers = 0\n"
     ]
    }
   ],
   "source": [
    "# This function is used to detect outliers in the dataset using standard of deviation\n",
    "def detect_outliers(df, col): # There are a few methods to detect outliers (Z-sore, interquartile, or standard of deviation)\n",
    "    upper_outliers = df[col].mean() + 3 * df[col].std()\n",
    "    lower_outliers = df[col].mean() - 3 * df[col].std()\n",
    "    upper_outliers = df[df[col] > upper_outliers] # Standard of deviation is used to detect outliers\n",
    "    lower_outliers = df[df[col] < lower_outliers]\n",
    "    total_outliers = upper_outliers[col].count() + upper_outliers[col].count()\n",
    "    \n",
    "    return f\"Number of outliers = {total_outliers}\"\n",
    "\n",
    "for feature in concrete_data.columns: # Get all the column names of a data frame\n",
    "    outlier_info = detect_outliers(concrete_data, feature) # Generate information for outliers\n",
    "    print(f\"median of {feature} = {np.median(concrete_data[feature])}, and mean of {feature} = {np.mean(concrete_data[feature])}, {outlier_info}\")"
   ]
  },
  {
   "cell_type": "markdown",
   "metadata": {},
   "source": [
    "Features slag, superplastic and age have outliers. In particularly, slag and, ash and age have very large difference in terms of median and mean. "
   ]
  },
  {
   "cell_type": "code",
   "execution_count": 8,
   "metadata": {},
   "outputs": [
    {
     "data": {
      "image/png": "[encoded data removed]",
      "text/plain": [
       "<Figure size 1152x864 with 8 Axes>"
      ]
     },
     "metadata": {
      "needs_background": "light"
     },
     "output_type": "display_data"
    }
   ],
   "source": [
    "plt.figure(figsize=(16,12))\n",
    "\n",
    "for index, column in enumerate(concrete_data.drop(columns = 'strength').columns):\n",
    "    plt.subplot(4, 2, (index+1))\n",
    "    sns.boxplot(concrete_data[column])"
   ]
  },
  {
   "cell_type": "markdown",
   "metadata": {},
   "source": [
    "Features slag, superplastic and age have outliers. In particularly, slag, ash, superplastic and age have very large differences in terms of median and mean. "
   ]
  },
  {
   "cell_type": "code",
   "execution_count": 9,
   "metadata": {},
   "outputs": [
    {
     "data": {
      "image/png": "[encoded data removed]",
      "text/plain": [
       "<Figure size 864x864 with 9 Axes>"
      ]
     },
     "metadata": {
      "needs_background": "light"
     },
     "output_type": "display_data"
    }
   ],
   "source": [
    "concrete_data.hist(stacked=False, bins=20, figsize=(12, 12)); "
   ]
  },
  {
   "cell_type": "markdown",
   "metadata": {},
   "source": [
    "# 3.0 Bi-variate analysis"
   ]
  },
  {
   "cell_type": "markdown",
   "metadata": {},
   "source": [
    "## 3.1 Correlation Analysis"
   ]
  },
  {
   "cell_type": "markdown",
   "metadata": {},
   "source": [
    "Figure below shows that the strength is correlated more strongly to cement, superplastic and age. However, there is no high correlation between different features. Ash is negatively correlated to cement and slag. Superplastic has some weak correlation with ash."
   ]
  },
  {
   "cell_type": "code",
   "execution_count": 10,
   "metadata": {},
   "outputs": [
    {
     "data": {
      "image/png": "[encoded data removed]",
      "text/plain": [
       "<Figure size 720x576 with 1 Axes>"
      ]
     },
     "metadata": {
      "needs_background": "light"
     },
     "output_type": "display_data"
    }
   ],
   "source": [
    "plt.figure(figsize=(10,8))\n",
    "\n",
    "# Generate correlation matrix and show it using heat map\n",
    "sns.heatmap(\n",
    "    concrete_data.corr(),\n",
    "    annot=True,\n",
    "    linewidths=.5,\n",
    "    center=0,\n",
    "    cbar=False,\n",
    "    cmap=\"YlGnBu\"\n",
    ")\n",
    "\n",
    "plt.show()"
   ]
  },
  {
   "cell_type": "code",
   "execution_count": 22,
   "metadata": {},
   "outputs": [
    {
     "data": {
      "text/html": [
       "<div>\n",
       "<style scoped>\n",
       "    .dataframe tbody tr th:only-of-type {\n",
       "        vertical-align: middle;\n",
       "    }\n",
       "\n",
       "    .dataframe tbody tr th {\n",
       "        vertical-align: top;\n",
       "    }\n",
       "\n",
       "    .dataframe thead th {\n",
       "        text-align: right;\n",
       "    }\n",
       "</style>\n",
       "<table border=\"1\" class=\"dataframe\">\n",
       "  <thead>\n",
       "    <tr style=\"text-align: right;\">\n",
       "      <th></th>\n",
       "      <th>cement</th>\n",
       "      <th>slag</th>\n",
       "      <th>ash</th>\n",
       "      <th>water</th>\n",
       "      <th>superplastic</th>\n",
       "      <th>coarseagg</th>\n",
       "      <th>fineagg</th>\n",
       "      <th>age</th>\n",
       "      <th>strength</th>\n",
       "    </tr>\n",
       "  </thead>\n",
       "  <tbody>\n",
       "    <tr>\n",
       "      <th>strength</th>\n",
       "      <td>0.497832</td>\n",
       "      <td>0.134829</td>\n",
       "      <td>-0.105755</td>\n",
       "      <td>-0.289633</td>\n",
       "      <td>0.366079</td>\n",
       "      <td>-0.164935</td>\n",
       "      <td>-0.167241</td>\n",
       "      <td>0.328873</td>\n",
       "      <td>1.000000</td>\n",
       "    </tr>\n",
       "    <tr>\n",
       "      <th>cement</th>\n",
       "      <td>1.000000</td>\n",
       "      <td>-0.275216</td>\n",
       "      <td>-0.397467</td>\n",
       "      <td>-0.081587</td>\n",
       "      <td>0.092386</td>\n",
       "      <td>-0.109349</td>\n",
       "      <td>-0.222718</td>\n",
       "      <td>0.081946</td>\n",
       "      <td>0.497832</td>\n",
       "    </tr>\n",
       "    <tr>\n",
       "      <th>superplastic</th>\n",
       "      <td>0.092386</td>\n",
       "      <td>0.043270</td>\n",
       "      <td>0.377503</td>\n",
       "      <td>-0.657533</td>\n",
       "      <td>1.000000</td>\n",
       "      <td>-0.265999</td>\n",
       "      <td>0.222691</td>\n",
       "      <td>-0.192700</td>\n",
       "      <td>0.366079</td>\n",
       "    </tr>\n",
       "    <tr>\n",
       "      <th>age</th>\n",
       "      <td>0.081946</td>\n",
       "      <td>-0.044246</td>\n",
       "      <td>-0.154371</td>\n",
       "      <td>0.277618</td>\n",
       "      <td>-0.192700</td>\n",
       "      <td>-0.003016</td>\n",
       "      <td>-0.156095</td>\n",
       "      <td>1.000000</td>\n",
       "      <td>0.328873</td>\n",
       "    </tr>\n",
       "    <tr>\n",
       "      <th>slag</th>\n",
       "      <td>-0.275216</td>\n",
       "      <td>1.000000</td>\n",
       "      <td>-0.323580</td>\n",
       "      <td>0.107252</td>\n",
       "      <td>0.043270</td>\n",
       "      <td>-0.283999</td>\n",
       "      <td>-0.281603</td>\n",
       "      <td>-0.044246</td>\n",
       "      <td>0.134829</td>\n",
       "    </tr>\n",
       "    <tr>\n",
       "      <th>ash</th>\n",
       "      <td>-0.397467</td>\n",
       "      <td>-0.323580</td>\n",
       "      <td>1.000000</td>\n",
       "      <td>-0.256984</td>\n",
       "      <td>0.377503</td>\n",
       "      <td>-0.009961</td>\n",
       "      <td>0.079108</td>\n",
       "      <td>-0.154371</td>\n",
       "      <td>-0.105755</td>\n",
       "    </tr>\n",
       "    <tr>\n",
       "      <th>coarseagg</th>\n",
       "      <td>-0.109349</td>\n",
       "      <td>-0.283999</td>\n",
       "      <td>-0.009961</td>\n",
       "      <td>-0.182294</td>\n",
       "      <td>-0.265999</td>\n",
       "      <td>1.000000</td>\n",
       "      <td>-0.178481</td>\n",
       "      <td>-0.003016</td>\n",
       "      <td>-0.164935</td>\n",
       "    </tr>\n",
       "    <tr>\n",
       "      <th>fineagg</th>\n",
       "      <td>-0.222718</td>\n",
       "      <td>-0.281603</td>\n",
       "      <td>0.079108</td>\n",
       "      <td>-0.450661</td>\n",
       "      <td>0.222691</td>\n",
       "      <td>-0.178481</td>\n",
       "      <td>1.000000</td>\n",
       "      <td>-0.156095</td>\n",
       "      <td>-0.167241</td>\n",
       "    </tr>\n",
       "    <tr>\n",
       "      <th>water</th>\n",
       "      <td>-0.081587</td>\n",
       "      <td>0.107252</td>\n",
       "      <td>-0.256984</td>\n",
       "      <td>1.000000</td>\n",
       "      <td>-0.657533</td>\n",
       "      <td>-0.182294</td>\n",
       "      <td>-0.450661</td>\n",
       "      <td>0.277618</td>\n",
       "      <td>-0.289633</td>\n",
       "    </tr>\n",
       "  </tbody>\n",
       "</table>\n",
       "</div>"
      ],
      "text/plain": [
       "                cement      slag       ash     water  superplastic  coarseagg  \\\n",
       "strength      0.497832  0.134829 -0.105755 -0.289633      0.366079  -0.164935   \n",
       "cement        1.000000 -0.275216 -0.397467 -0.081587      0.092386  -0.109349   \n",
       "superplastic  0.092386  0.043270  0.377503 -0.657533      1.000000  -0.265999   \n",
       "age           0.081946 -0.044246 -0.154371  0.277618     -0.192700  -0.003016   \n",
       "slag         -0.275216  1.000000 -0.323580  0.107252      0.043270  -0.283999   \n",
       "ash          -0.397467 -0.323580  1.000000 -0.256984      0.377503  -0.009961   \n",
       "coarseagg    -0.109349 -0.283999 -0.009961 -0.182294     -0.265999   1.000000   \n",
       "fineagg      -0.222718 -0.281603  0.079108 -0.450661      0.222691  -0.178481   \n",
       "water        -0.081587  0.107252 -0.256984  1.000000     -0.657533  -0.182294   \n",
       "\n",
       "               fineagg       age  strength  \n",
       "strength     -0.167241  0.328873  1.000000  \n",
       "cement       -0.222718  0.081946  0.497832  \n",
       "superplastic  0.222691 -0.192700  0.366079  \n",
       "age          -0.156095  1.000000  0.328873  \n",
       "slag         -0.281603 -0.044246  0.134829  \n",
       "ash           0.079108 -0.154371 -0.105755  \n",
       "coarseagg    -0.178481 -0.003016 -0.164935  \n",
       "fineagg       1.000000 -0.156095 -0.167241  \n",
       "water        -0.450661  0.277618 -0.289633  "
      ]
     },
     "execution_count": 22,
     "metadata": {},
     "output_type": "execute_result"
    }
   ],
   "source": [
    "concrete_data.corr(method='pearson').sort_values(by=['strength'], ascending=False)"
   ]
  },
  {
   "cell_type": "code",
   "execution_count": 21,
   "metadata": {},
   "outputs": [
    {
     "data": {
      "text/html": [
       "<div>\n",
       "<style scoped>\n",
       "    .dataframe tbody tr th:only-of-type {\n",
       "        vertical-align: middle;\n",
       "    }\n",
       "\n",
       "    .dataframe tbody tr th {\n",
       "        vertical-align: top;\n",
       "    }\n",
       "\n",
       "    .dataframe thead th {\n",
       "        text-align: right;\n",
       "    }\n",
       "</style>\n",
       "<table border=\"1\" class=\"dataframe\">\n",
       "  <thead>\n",
       "    <tr style=\"text-align: right;\">\n",
       "      <th></th>\n",
       "      <th>strength</th>\n",
       "    </tr>\n",
       "  </thead>\n",
       "  <tbody>\n",
       "    <tr>\n",
       "      <th>strength</th>\n",
       "      <td>1.000000</td>\n",
       "    </tr>\n",
       "    <tr>\n",
       "      <th>cement</th>\n",
       "      <td>0.497832</td>\n",
       "    </tr>\n",
       "    <tr>\n",
       "      <th>superplastic</th>\n",
       "      <td>0.366079</td>\n",
       "    </tr>\n",
       "    <tr>\n",
       "      <th>age</th>\n",
       "      <td>0.328873</td>\n",
       "    </tr>\n",
       "    <tr>\n",
       "      <th>slag</th>\n",
       "      <td>0.134829</td>\n",
       "    </tr>\n",
       "    <tr>\n",
       "      <th>ash</th>\n",
       "      <td>-0.105755</td>\n",
       "    </tr>\n",
       "    <tr>\n",
       "      <th>coarseagg</th>\n",
       "      <td>-0.164935</td>\n",
       "    </tr>\n",
       "    <tr>\n",
       "      <th>fineagg</th>\n",
       "      <td>-0.167241</td>\n",
       "    </tr>\n",
       "    <tr>\n",
       "      <th>water</th>\n",
       "      <td>-0.289633</td>\n",
       "    </tr>\n",
       "  </tbody>\n",
       "</table>\n",
       "</div>"
      ],
      "text/plain": [
       "              strength\n",
       "strength      1.000000\n",
       "cement        0.497832\n",
       "superplastic  0.366079\n",
       "age           0.328873\n",
       "slag          0.134829\n",
       "ash          -0.105755\n",
       "coarseagg    -0.164935\n",
       "fineagg      -0.167241\n",
       "water        -0.289633"
      ]
     },
     "execution_count": 21,
     "metadata": {},
     "output_type": "execute_result"
    }
   ],
   "source": [
    "concrete_data.corr(method='pearson')[['strength']].sort_values(by=['strength'], ascending=False)"
   ]
  },
  {
   "cell_type": "markdown",
   "metadata": {},
   "source": [
    "Figures above show that the strength is correlated more strongly to cement, superplastic and age. However, there is no high correlation between different features. Ash is negatively correlated to cement and slag. Superplastic has some weak correlation with ash."
   ]
  },
  {
   "cell_type": "markdown",
   "metadata": {},
   "source": [
    "## 3.2 Plot Chart"
   ]
  },
  {
   "cell_type": "markdown",
   "metadata": {},
   "source": [
    "Figures below show that strength has positive correlation to cement, slag. However, superplastic has many outlier when strength values are amongh the highest. Water seems to negatively affect the strengh of the material."
   ]
  },
  {
   "cell_type": "code",
   "execution_count": 23,
   "metadata": {},
   "outputs": [
    {
     "name": "stdout",
     "output_type": "stream",
     "text": [
      "Index(['cement', 'slag', 'ash', 'water', 'superplastic', 'coarseagg',\n",
      "       'fineagg', 'age', 'strength', 'strength_bins'],\n",
      "      dtype='object')\n"
     ]
    },
    {
     "data": {
      "image/png": "[encoded data removed]",
      "text/plain": [
       "<Figure size 1440x1440 with 8 Axes>"
      ]
     },
     "metadata": {
      "needs_background": "light"
     },
     "output_type": "display_data"
    }
   ],
   "source": [
    "concrete_data_copy = concrete_data.copy(deep=True)\n",
    "\n",
    "concrete_data_copy['strength_bins'] = pd.cut(concrete_data_copy.strength, bins=6, labels=False)\n",
    "\n",
    "print(concrete_data_copy.columns)\n",
    "plt.figure(figsize=(20,20))\n",
    "\n",
    "for index, column in enumerate(concrete_data.drop(columns = 'strength').columns):\n",
    "    plt.subplot(4, 2, (index+1))\n",
    "    sns.boxplot(x=\"strength_bins\", y=column, data=concrete_data_copy)"
   ]
  },
  {
   "cell_type": "markdown",
   "metadata": {},
   "source": [
    "## 3.3 Plot Chart"
   ]
  },
  {
   "cell_type": "markdown",
   "metadata": {},
   "source": [
    "Displot charts below show that cement and superplastic have distribution at higher value for higher strength bin. Water is a the reverse of cement and superplastic."
   ]
  },
  {
   "cell_type": "code",
   "execution_count": 24,
   "metadata": {},
   "outputs": [
    {
     "data": {
      "image/png": "[encoded data removed]",
      "text/plain": [
       "<Figure size 651.875x144 with 1 Axes>"
      ]
     },
     "metadata": {
      "needs_background": "light"
     },
     "output_type": "display_data"
    },
    {
     "data": {
      "image/png": "[encoded data removed]",
      "text/plain": [
       "<Figure size 651.875x144 with 1 Axes>"
      ]
     },
     "metadata": {
      "needs_background": "light"
     },
     "output_type": "display_data"
    },
    {
     "data": {
      "image/png": "[encoded data removed]",
      "text/plain": [
       "<Figure size 651.875x144 with 1 Axes>"
      ]
     },
     "metadata": {
      "needs_background": "light"
     },
     "output_type": "display_data"
    },
    {
     "data": {
      "image/png": "[encoded data removed]",
      "text/plain": [
       "<Figure size 651.875x144 with 1 Axes>"
      ]
     },
     "metadata": {
      "needs_background": "light"
     },
     "output_type": "display_data"
    },
    {
     "data": {
      "image/png": "[encoded data removed]",
      "text/plain": [
       "<Figure size 651.875x144 with 1 Axes>"
      ]
     },
     "metadata": {
      "needs_background": "light"
     },
     "output_type": "display_data"
    },
    {
     "data": {
      "image/png": "[encoded data removed]",
      "text/plain": [
       "<Figure size 651.875x144 with 1 Axes>"
      ]
     },
     "metadata": {
      "needs_background": "light"
     },
     "output_type": "display_data"
    },
    {
     "data": {
      "image/png": "[encoded data removed]",
      "text/plain": [
       "<Figure size 651.875x144 with 1 Axes>"
      ]
     },
     "metadata": {
      "needs_background": "light"
     },
     "output_type": "display_data"
    },
    {
     "data": {
      "image/png": "[encoded data removed]",
      "text/plain": [
       "<Figure size 651.875x144 with 1 Axes>"
      ]
     },
     "metadata": {
      "needs_background": "light"
     },
     "output_type": "display_data"
    },
    {
     "data": {
      "text/plain": [
       "<Figure size 432x288 with 0 Axes>"
      ]
     },
     "metadata": {},
     "output_type": "display_data"
    }
   ],
   "source": [
    "concrete_data_copy = concrete_data.copy(deep=True)\n",
    "\n",
    "concrete_data_copy['strength_bins'] = pd.cut(concrete_data_copy.strength, bins=2, labels=False)\n",
    "\n",
    "# Generate chart for continuous independent variables and segregate by outcomes of the Target\n",
    "for feature in concrete_data_copy.drop(columns=['strength_bins', 'strength']).columns:\n",
    "    if \"strength\" not in feature:\n",
    "        g = sns.FacetGrid(concrete_data_copy[[feature,\"strength_bins\"]], hue=\"strength_bins\", height=2, aspect=4)\n",
    "        g = (g.map(sns.distplot, feature, norm_hist=False).add_legend())\n",
    "plt.figure()\n",
    "plt.show()"
   ]
  },
  {
   "cell_type": "markdown",
   "metadata": {},
   "source": [
    "# 4.0 Feature Engineering"
   ]
  },
  {
   "cell_type": "markdown",
   "metadata": {},
   "source": [
    "## 4.1 Lasso "
   ]
  },
  {
   "cell_type": "markdown",
   "metadata": {},
   "source": [
    "We will use lasso to evaluate data of various features. Most of features have higher than 0.01 coefficient value after being fit to Lasso linear model, except coarseagg.       "
   ]
  },
  {
   "cell_type": "code",
   "execution_count": 28,
   "metadata": {},
   "outputs": [
    {
     "name": "stdout",
     "output_type": "stream",
     "text": [
      "alpha value is  0.1\n",
      "Train R2 score : 0.62\n",
      "Test R2 score : 0.58\n",
      "[ 0.11219902  0.09092174  0.08064778 -0.1590895   0.38078001  0.01326024\n",
      "  0.01432895  0.11838799]\n",
      "---------------------\n",
      "alpha value is  0.5\n",
      "Train R2 score : 0.62\n",
      "Test R2 score : 0.59\n",
      "[ 0.11165641  0.09019968  0.08028231 -0.16578199  0.35531867  0.0118508\n",
      "  0.01323714  0.11825345]\n",
      "---------------------\n",
      "alpha value is  1\n",
      "Train R2 score : 0.62\n",
      "Test R2 score : 0.59\n",
      "[ 0.11098279  0.08930255  0.0798318  -0.1741285   0.32349991  0.01009362\n",
      "  0.01187801  0.1180854 ]\n",
      "---------------------\n"
     ]
    }
   ],
   "source": [
    "from sklearn import linear_model\n",
    "from sklearn.model_selection import train_test_split\n",
    "from sklearn.metrics import r2_score\n",
    "\n",
    "X = concrete_data.loc[:, concrete_data.columns != 'strength'] # Obtain feature variables\n",
    "y = concrete_data['strength'] # Obtain target variable\n",
    "X_train, X_test, y_train, y_test = train_test_split(X, y, test_size = 0.30, random_state=0) # Split the feature and target data to 70% train and 30% test data\n",
    "\n",
    "for alpha in [0.1, 0.5, 1]:\n",
    "    clf = linear_model.Lasso(alpha=alpha) # Use Lasso to evaluate whether we can drop certain features\n",
    "    clf.fit(X_train, y_train)\n",
    "    y_pred = clf.predict(X_test)\n",
    "    \n",
    "    y_train_pred = clf.predict(X_train)\n",
    "    y_test_pred = clf.predict(X_test)\n",
    "    \n",
    "    # Evaluate the r2 score of the linear predictor\n",
    "    print(\"alpha value is \", alpha)\n",
    "    print(\"Train R2 score : {:.2f}\". format(r2_score(y_train, y_train_pred))) \n",
    "    print(\"Test R2 score : {:.2f}\". format(r2_score(y_test, y_test_pred))) \n",
    "    print(clf.coef_)\n",
    "    \n",
    "    print(\"---------------------\")"
   ]
  },
  {
   "cell_type": "markdown",
   "metadata": {},
   "source": [
    "The r2 scores for train and test are below 0.63 for simple linear model. Therefore, we need to use more complex regression model such as Random Forest to predict strength of the material."
   ]
  },
  {
   "cell_type": "code",
   "execution_count": 32,
   "metadata": {},
   "outputs": [
    {
     "name": "stdout",
     "output_type": "stream",
     "text": [
      "--------------------------\n",
      "The polynomial is based on degree  1\n",
      "[0.54186399 0.44250358 0.65278746 0.64724227 0.59660299 0.59462031\n",
      " 0.67899316 0.7438839  0.66956998 0.47919432]\n",
      "--------------------------\n",
      "The polynomial is based on degree  2\n",
      "[0.73342549 0.67000465 0.8323306  0.85117859 0.83997958 0.75575997\n",
      " 0.81065023 0.78278934 0.77096463 0.76259185]\n",
      "--------------------------\n",
      "The polynomial is based on degree  3\n",
      "[0.65639209 0.76265474 0.84276606 0.90021518 0.88664606 0.86215909\n",
      " 0.42659135 0.7075509  0.53146432 0.87813159]\n",
      "--------------------------\n",
      "The polynomial is based on degree  4\n",
      "[ -32437.80693937  -29520.1714519   -11383.93737961   -9742.95651239\n",
      "  -26193.27884896   -2584.83222099   -5513.11444867  -86746.6796004\n",
      " -359574.15697747   -1812.60764238]\n"
     ]
    },
    {
     "data": {
      "text/plain": [
       "<Figure size 1008x360 with 0 Axes>"
      ]
     },
     "metadata": {},
     "output_type": "display_data"
    }
   ],
   "source": [
    "import matplotlib.pyplot as plt\n",
    "from sklearn.pipeline import Pipeline\n",
    "from sklearn.preprocessing import PolynomialFeatures\n",
    "from sklearn.linear_model import LinearRegression\n",
    "from sklearn.model_selection import cross_val_score\n",
    "\n",
    "X = concrete_data.loc[:, concrete_data.columns != 'strength'] # Obtain feature variables\n",
    "y = concrete_data['strength'] # Obtain target variable\n",
    "X_train, X_test, y_train, y_test = train_test_split(X, y, test_size = 0.30, random_state=0) # Split the feature and target data to 70% train and 30% test data\n",
    "\n",
    "np.random.seed(0)\n",
    "\n",
    "n_samples = 30\n",
    "degrees = [1, 2, 3, 4]\n",
    "\n",
    "# Evaluate a range of polynomials with different degrees\n",
    "plt.figure(figsize=(14, 5))\n",
    "for i in range(len(degrees)):\n",
    "    polynomial_features = PolynomialFeatures(degree=degrees[i],\n",
    "                                             include_bias=False)\n",
    "    linear_regression = LinearRegression()\n",
    "    \n",
    "    # Build a pipeline to fit train data to a polynomial and then to a linear regressor\n",
    "    pipeline = Pipeline([(\"polynomial_features\", polynomial_features),\n",
    "                         (\"linear_regression\", linear_regression)])\n",
    "    pipeline.fit(X_train, y_train)\n",
    "\n",
    "    # Evaluate the models using cross validation\n",
    "    scores = cross_val_score(pipeline, X_train, y_train,\n",
    "                             scoring=\"r2\", cv=10)\n",
    "    \n",
    "    print(\"--------------------------\")\n",
    "    print(\"The polynomial is based on degree \", degrees[i])\n",
    "    print(scores)"
   ]
  },
  {
   "cell_type": "markdown",
   "metadata": {},
   "source": [
    "# 5.0 Kfold and Cross Validation"
   ]
  },
  {
   "cell_type": "markdown",
   "metadata": {},
   "source": [
    "Algorithms that will be suitable for this project (one tree based and one bagging algorithm and one boosting algorithm). Use Kfold and Cross Validation to evaluate model performance. Use appropriate metrics and make a DataFrame to compare models w.r.t their metrics. (15 marks)"
   ]
  },
  {
   "cell_type": "markdown",
   "metadata": {},
   "source": [
    "## 5.1 Tree based Regressor"
   ]
  },
  {
   "cell_type": "code",
   "execution_count": 49,
   "metadata": {},
   "outputs": [
    {
     "name": "stdout",
     "output_type": "stream",
     "text": [
      "R2 score is  0.911\n"
     ]
    }
   ],
   "source": [
    "from sklearn.ensemble import RandomForestRegressor\n",
    "from sklearn.model_selection import KFold\n",
    "from sklearn.model_selection import cross_val_score\n",
    "model_performance = {}\n",
    "\n",
    "num_folds = 5\n",
    "kfold = KFold(n_splits=num_folds, random_state=2)\n",
    "model = RandomForestRegressor()\n",
    "results = cross_val_score(model, X, y, cv=kfold, scoring=\"r2\")\n",
    "print(\"R2 score is \", round(np.mean(results), 3))\n",
    "d = {'name': ['Random forest'], 'r2 score': [round(np.mean(results), 3)]}\n",
    "model_performance = pd.DataFrame(data=d)"
   ]
  },
  {
   "cell_type": "markdown",
   "metadata": {},
   "source": [
    "Random Forest regressor based on tree based algorithm, shows reasonable R2 score exceeding 0.9 for the cross validation data. "
   ]
  },
  {
   "cell_type": "markdown",
   "metadata": {},
   "source": [
    "## 5.2 Bagging Regressor"
   ]
  },
  {
   "cell_type": "code",
   "execution_count": 51,
   "metadata": {},
   "outputs": [
    {
     "name": "stdout",
     "output_type": "stream",
     "text": [
      "R2 score is  0.9\n"
     ]
    },
    {
     "data": {
      "text/html": [
       "<div>\n",
       "<style scoped>\n",
       "    .dataframe tbody tr th:only-of-type {\n",
       "        vertical-align: middle;\n",
       "    }\n",
       "\n",
       "    .dataframe tbody tr th {\n",
       "        vertical-align: top;\n",
       "    }\n",
       "\n",
       "    .dataframe thead th {\n",
       "        text-align: right;\n",
       "    }\n",
       "</style>\n",
       "<table border=\"1\" class=\"dataframe\">\n",
       "  <thead>\n",
       "    <tr style=\"text-align: right;\">\n",
       "      <th></th>\n",
       "      <th>name</th>\n",
       "      <th>r2 score</th>\n",
       "    </tr>\n",
       "  </thead>\n",
       "  <tbody>\n",
       "    <tr>\n",
       "      <th>0</th>\n",
       "      <td>Random forest</td>\n",
       "      <td>0.911</td>\n",
       "    </tr>\n",
       "    <tr>\n",
       "      <th>0</th>\n",
       "      <td>Bagging regressor</td>\n",
       "      <td>0.900</td>\n",
       "    </tr>\n",
       "  </tbody>\n",
       "</table>\n",
       "</div>"
      ],
      "text/plain": [
       "                name  r2 score\n",
       "0      Random forest     0.911\n",
       "0  Bagging regressor     0.900"
      ]
     },
     "execution_count": 51,
     "metadata": {},
     "output_type": "execute_result"
    }
   ],
   "source": [
    "from sklearn.ensemble import BaggingRegressor\n",
    "from sklearn.model_selection import KFold\n",
    "from sklearn.model_selection import cross_val_score\n",
    "\n",
    "num_folds = 5\n",
    "kfold = KFold(n_splits=num_folds, random_state=2)\n",
    "model = BaggingRegressor()\n",
    "results = cross_val_score(model, X, y, cv=kfold, scoring=\"r2\")\n",
    "\n",
    "print(\"R2 score is \", round(np.mean(results), 3))\n",
    "d = {'name': ['Bagging regressor'], 'r2 score': [round(np.mean(results), 3)]}\n",
    "d = pd.DataFrame(data=d)\n",
    "\n",
    "model_performance = pd.concat([model_performance, d])\n",
    "model_performance.head()"
   ]
  },
  {
   "cell_type": "markdown",
   "metadata": {},
   "source": [
    "BaggingRegressor, a bagging regressor, shows reasonable R2 score still below 0.9 for the cross validation data. "
   ]
  },
  {
   "cell_type": "markdown",
   "metadata": {},
   "source": [
    "## 5.3 Boosting Regressor"
   ]
  },
  {
   "cell_type": "code",
   "execution_count": 52,
   "metadata": {},
   "outputs": [
    {
     "name": "stdout",
     "output_type": "stream",
     "text": [
      "R2 score is  0.902\n"
     ]
    },
    {
     "data": {
      "text/html": [
       "<div>\n",
       "<style scoped>\n",
       "    .dataframe tbody tr th:only-of-type {\n",
       "        vertical-align: middle;\n",
       "    }\n",
       "\n",
       "    .dataframe tbody tr th {\n",
       "        vertical-align: top;\n",
       "    }\n",
       "\n",
       "    .dataframe thead th {\n",
       "        text-align: right;\n",
       "    }\n",
       "</style>\n",
       "<table border=\"1\" class=\"dataframe\">\n",
       "  <thead>\n",
       "    <tr style=\"text-align: right;\">\n",
       "      <th></th>\n",
       "      <th>name</th>\n",
       "      <th>r2 score</th>\n",
       "    </tr>\n",
       "  </thead>\n",
       "  <tbody>\n",
       "    <tr>\n",
       "      <th>0</th>\n",
       "      <td>Random forest</td>\n",
       "      <td>0.911</td>\n",
       "    </tr>\n",
       "    <tr>\n",
       "      <th>0</th>\n",
       "      <td>Bagging regressor</td>\n",
       "      <td>0.900</td>\n",
       "    </tr>\n",
       "    <tr>\n",
       "      <th>0</th>\n",
       "      <td>Gradient Boosting regressor</td>\n",
       "      <td>0.902</td>\n",
       "    </tr>\n",
       "  </tbody>\n",
       "</table>\n",
       "</div>"
      ],
      "text/plain": [
       "                          name  r2 score\n",
       "0                Random forest     0.911\n",
       "0            Bagging regressor     0.900\n",
       "0  Gradient Boosting regressor     0.902"
      ]
     },
     "execution_count": 52,
     "metadata": {},
     "output_type": "execute_result"
    }
   ],
   "source": [
    "from sklearn.ensemble import GradientBoostingRegressor\n",
    "from sklearn.model_selection import KFold\n",
    "from sklearn.model_selection import cross_val_score\n",
    "\n",
    "num_folds = 5\n",
    "kfold = KFold(n_splits=num_folds, random_state=2)\n",
    "model = GradientBoostingRegressor()\n",
    "results = cross_val_score(model, X, y, cv=kfold, scoring=\"r2\")\n",
    "print(\"R2 score is \", round(np.mean(results), 3))\n",
    "d = {'name': ['Gradient Boosting regressor'], 'r2 score': [round(np.mean(results), 3)]}\n",
    "d = pd.DataFrame(data=d)\n",
    "\n",
    "model_performance = pd.concat([model_performance, d])\n",
    "model_performance.head()"
   ]
  },
  {
   "cell_type": "markdown",
   "metadata": {},
   "source": [
    "Gradient Boosting regressor based on boosting algorithm, shows reasonable R2 score exceeding 0.9 for the cross validation data."
   ]
  },
  {
   "cell_type": "markdown",
   "metadata": {},
   "source": [
    "# 6.0 Grid and Random Search"
   ]
  },
  {
   "cell_type": "markdown",
   "metadata": {},
   "source": [
    "It is important to break the data to train/cross validation data and test data. Consequently, a model can be trained on train/cv data and validation on the test data to evaluate bias and overfitting."
   ]
  },
  {
   "cell_type": "markdown",
   "metadata": {},
   "source": [
    "We will adopt Grid Search and Random Search to fine tune the model and avoid overfitting."
   ]
  },
  {
   "cell_type": "code",
   "execution_count": 54,
   "metadata": {},
   "outputs": [],
   "source": [
    "from sklearn.model_selection import train_test_split\n",
    "from sklearn.decomposition import PCA\n",
    "from sklearn.metrics import r2_score\n",
    "\n",
    "X = concrete_data.loc[:, concrete_data.columns != 'strength']\n",
    "y = concrete_data['strength']\n",
    "X_train, X_test, y_train, y_test = train_test_split(X, y, test_size = 0.30, random_state=0)"
   ]
  },
  {
   "cell_type": "markdown",
   "metadata": {},
   "source": [
    "## 6.1 Tree based regressor"
   ]
  },
  {
   "cell_type": "code",
   "execution_count": 77,
   "metadata": {},
   "outputs": [
    {
     "name": "stdout",
     "output_type": "stream",
     "text": [
      "Train R2 score : 0.979\n",
      "Test R2 score : 0.897\n",
      "-------- End Grid search --------\n",
      "Train R2 score : 0.979\n",
      "Test R2 score : 0.894\n"
     ]
    },
    {
     "data": {
      "text/html": [
       "<div>\n",
       "<style scoped>\n",
       "    .dataframe tbody tr th:only-of-type {\n",
       "        vertical-align: middle;\n",
       "    }\n",
       "\n",
       "    .dataframe tbody tr th {\n",
       "        vertical-align: top;\n",
       "    }\n",
       "\n",
       "    .dataframe thead th {\n",
       "        text-align: right;\n",
       "    }\n",
       "</style>\n",
       "<table border=\"1\" class=\"dataframe\">\n",
       "  <thead>\n",
       "    <tr style=\"text-align: right;\">\n",
       "      <th></th>\n",
       "      <th>data type</th>\n",
       "      <th>search</th>\n",
       "      <th>name</th>\n",
       "      <th>estimator</th>\n",
       "      <th>r2 score</th>\n",
       "    </tr>\n",
       "  </thead>\n",
       "  <tbody>\n",
       "    <tr>\n",
       "      <th>0</th>\n",
       "      <td>train</td>\n",
       "      <td>grid search</td>\n",
       "      <td>RandomForestRegressor(bootstrap=True, ccp_alph...</td>\n",
       "      <td>{'rf__bootstrap': True, 'rf__ccp_alpha': 0, 'r...</td>\n",
       "      <td>0.98</td>\n",
       "    </tr>\n",
       "    <tr>\n",
       "      <th>0</th>\n",
       "      <td>test</td>\n",
       "      <td>grid search</td>\n",
       "      <td>RandomForestRegressor(bootstrap=True, ccp_alph...</td>\n",
       "      <td>{'rf__bootstrap': True, 'rf__ccp_alpha': 0, 'r...</td>\n",
       "      <td>0.90</td>\n",
       "    </tr>\n",
       "    <tr>\n",
       "      <th>0</th>\n",
       "      <td>train</td>\n",
       "      <td>random search</td>\n",
       "      <td>RandomForestRegressor(bootstrap=True, ccp_alph...</td>\n",
       "      <td>{'rf__max_depth': 10, 'rf__ccp_alpha': 0, 'rf_...</td>\n",
       "      <td>0.98</td>\n",
       "    </tr>\n",
       "    <tr>\n",
       "      <th>0</th>\n",
       "      <td>test</td>\n",
       "      <td>random search</td>\n",
       "      <td>RandomForestRegressor(bootstrap=True, ccp_alph...</td>\n",
       "      <td>{'rf__max_depth': 10, 'rf__ccp_alpha': 0, 'rf_...</td>\n",
       "      <td>0.89</td>\n",
       "    </tr>\n",
       "  </tbody>\n",
       "</table>\n",
       "</div>"
      ],
      "text/plain": [
       "  data type         search                                               name  \\\n",
       "0     train    grid search  RandomForestRegressor(bootstrap=True, ccp_alph...   \n",
       "0      test    grid search  RandomForestRegressor(bootstrap=True, ccp_alph...   \n",
       "0     train  random search  RandomForestRegressor(bootstrap=True, ccp_alph...   \n",
       "0      test  random search  RandomForestRegressor(bootstrap=True, ccp_alph...   \n",
       "\n",
       "                                           estimator r2 score  \n",
       "0  {'rf__bootstrap': True, 'rf__ccp_alpha': 0, 'r...     0.98  \n",
       "0  {'rf__bootstrap': True, 'rf__ccp_alpha': 0, 'r...     0.90  \n",
       "0  {'rf__max_depth': 10, 'rf__ccp_alpha': 0, 'rf_...     0.98  \n",
       "0  {'rf__max_depth': 10, 'rf__ccp_alpha': 0, 'rf_...     0.89  "
      ]
     },
     "execution_count": 77,
     "metadata": {},
     "output_type": "execute_result"
    }
   ],
   "source": [
    "from sklearn.model_selection import GridSearchCV, RandomizedSearchCV\n",
    "from sklearn.ensemble import RandomForestRegressor\n",
    "from sklearn.preprocessing import StandardScaler \n",
    "from sklearn.metrics import r2_score\n",
    "from sklearn.decomposition import PCA\n",
    "\n",
    "model_performance = pd.DataFrame(columns=['data type','search','name','estimator','r2 score'])\n",
    "\n",
    "def grid_search_model(model_type, model_name, param_grid, model_performance):\n",
    "    pipe_svc = Pipeline([('scl', StandardScaler()), (model_name, model_type)]) \n",
    "    grid = GridSearchCV(pipe_svc , param_grid = param_grid, cv = 5) \n",
    "    grid_fit = grid.fit(X_train, y_train) \n",
    "    y_train_pred = grid.predict(X_train)\n",
    "    y_test_pred = grid.predict(X_test)\n",
    "    \n",
    "    print(\"Train R2 score : {:.3f}\". format(r2_score(y_train, y_train_pred))) \n",
    "    print(\"Test R2 score : {:.3f}\". format(r2_score(y_test, y_test_pred))) \n",
    "    \n",
    "    d = {'data type': ['train'], 'search' : ['grid search'], 'name': [str(model_type)], 'estimator': [str(grid.best_params_)], 'r2 score': [\"{:.3f}\". format(r2_score(y_train, y_train_pred))]}\n",
    "    d = pd.DataFrame(data=d)\n",
    "    model_performance = pd.concat([model_performance, d])\n",
    "    \n",
    "    d = {'data type': ['test'], 'search' : ['grid search'], 'name': [str(model_type)], 'estimator': [str(grid.best_params_)], 'r2 score': [\"{:.3f}\". format(r2_score(y_test, y_test_pred))]}\n",
    "    d = pd.DataFrame(data=d)\n",
    "    model_performance = pd.concat([model_performance, d])\n",
    "    print(\"-------- End Grid search --------\")\n",
    "    \n",
    "    return model_performance\n",
    "    \n",
    "def random_search_model(model_type, model_name, distributions, model_performance):\n",
    "    pipe_svc = Pipeline([('scl', StandardScaler()), (model_name, model_type)]) \n",
    "    grid = RandomizedSearchCV(pipe_svc , distributions, cv = 5) \n",
    "    grid_fit = grid.fit(X_train, y_train) \n",
    "    y_train_pred = grid.predict(X_train)\n",
    "    y_test_pred = grid.predict(X_test)\n",
    "    \n",
    "    print(\"Train R2 score : {:.3f}\". format(r2_score(y_train, y_train_pred))) \n",
    "    print(\"Test R2 score : {:.3f}\". format(r2_score(y_test, y_test_pred))) \n",
    "    \n",
    "    d = {'data type': ['train'], 'search' : ['random search'], 'name': [str(model_type)], 'estimator': [str(grid.best_params_)], 'r2 score': [\"{:.3f}\". format(r2_score(y_train, y_train_pred))]}\n",
    "    d = pd.DataFrame(data=d)\n",
    "    model_performance = pd.concat([model_performance, d])\n",
    "    \n",
    "    d = {'data type': ['test'], 'search' : ['random search'], 'name': [str(model_type)], 'estimator': [str(grid.best_params_)], 'r2 score': [\"{:.3f}\". format(r2_score(y_test, y_test_pred))]}\n",
    "    d = pd.DataFrame(data=d)\n",
    "    model_performance = pd.concat([model_performance, d])\n",
    "    \n",
    "    return model_performance\n",
    "\n",
    "param_grid = {'rf__max_depth': [6, 8, 10], 'rf__bootstrap':[True,False], 'rf__ccp_alpha':[0, 1, 2]} \n",
    "model_performance = grid_search_model(RandomForestRegressor(), 'rf', param_grid, model_performance)\n",
    "param_grid = {'rf__max_depth': [6, 10], 'rf__bootstrap':[True,False], 'rf__ccp_alpha':[0, 2]} \n",
    "model_performance = random_search_model(RandomForestRegressor(), 'rf', param_grid, model_performance)\n",
    "\n",
    "model_performance.head()"
   ]
  },
  {
   "cell_type": "markdown",
   "metadata": {},
   "source": [
    "Random Forest regressor based on tree based algorithm, shows good R2 score of 0.89 for the test data. However, grid search seems to perform slightly better than random search. Depending on the priority about training time or score accuracy, grid search is preferred if accuracy performance is most important."
   ]
  },
  {
   "cell_type": "code",
   "execution_count": 70,
   "metadata": {},
   "outputs": [
    {
     "data": {
      "text/plain": [
       "0                                                    -\n",
       "0    {'rf__bootstrap': True, 'rf__ccp_alpha': 0, 'r...\n",
       "0    {'rf__bootstrap': True, 'rf__ccp_alpha': 0, 'r...\n",
       "0    {'rf__max_depth': 9, 'rf__ccp_alpha': 0, 'rf__...\n",
       "0    {'rf__max_depth': 9, 'rf__ccp_alpha': 0, 'rf__...\n",
       "Name: estimator, dtype: object"
      ]
     },
     "execution_count": 70,
     "metadata": {},
     "output_type": "execute_result"
    }
   ],
   "source": [
    "model_performance['estimator']"
   ]
  },
  {
   "cell_type": "markdown",
   "metadata": {},
   "source": [
    "## 6.2 Bagging regressor"
   ]
  },
  {
   "cell_type": "code",
   "execution_count": 81,
   "metadata": {},
   "outputs": [],
   "source": [
    "BaggingRegressor?"
   ]
  },
  {
   "cell_type": "code",
   "execution_count": 82,
   "metadata": {},
   "outputs": [
    {
     "name": "stdout",
     "output_type": "stream",
     "text": [
      "Train R2 score : 0.973\n",
      "Test R2 score : 0.895\n",
      "-------- End Grid search --------\n",
      "Train R2 score : 0.978\n",
      "Test R2 score : 0.891\n"
     ]
    },
    {
     "data": {
      "text/html": [
       "<div>\n",
       "<style scoped>\n",
       "    .dataframe tbody tr th:only-of-type {\n",
       "        vertical-align: middle;\n",
       "    }\n",
       "\n",
       "    .dataframe tbody tr th {\n",
       "        vertical-align: top;\n",
       "    }\n",
       "\n",
       "    .dataframe thead th {\n",
       "        text-align: right;\n",
       "    }\n",
       "</style>\n",
       "<table border=\"1\" class=\"dataframe\">\n",
       "  <thead>\n",
       "    <tr style=\"text-align: right;\">\n",
       "      <th></th>\n",
       "      <th>data type</th>\n",
       "      <th>search</th>\n",
       "      <th>name</th>\n",
       "      <th>estimator</th>\n",
       "      <th>r2 score</th>\n",
       "    </tr>\n",
       "  </thead>\n",
       "  <tbody>\n",
       "    <tr>\n",
       "      <th>0</th>\n",
       "      <td>train</td>\n",
       "      <td>grid search</td>\n",
       "      <td>RandomForestRegressor(bootstrap=True, ccp_alph...</td>\n",
       "      <td>{'rf__bootstrap': True, 'rf__ccp_alpha': 0, 'r...</td>\n",
       "      <td>0.98</td>\n",
       "    </tr>\n",
       "    <tr>\n",
       "      <th>0</th>\n",
       "      <td>test</td>\n",
       "      <td>grid search</td>\n",
       "      <td>RandomForestRegressor(bootstrap=True, ccp_alph...</td>\n",
       "      <td>{'rf__bootstrap': True, 'rf__ccp_alpha': 0, 'r...</td>\n",
       "      <td>0.90</td>\n",
       "    </tr>\n",
       "    <tr>\n",
       "      <th>0</th>\n",
       "      <td>train</td>\n",
       "      <td>random search</td>\n",
       "      <td>RandomForestRegressor(bootstrap=True, ccp_alph...</td>\n",
       "      <td>{'rf__max_depth': 10, 'rf__ccp_alpha': 0, 'rf_...</td>\n",
       "      <td>0.98</td>\n",
       "    </tr>\n",
       "    <tr>\n",
       "      <th>0</th>\n",
       "      <td>test</td>\n",
       "      <td>random search</td>\n",
       "      <td>RandomForestRegressor(bootstrap=True, ccp_alph...</td>\n",
       "      <td>{'rf__max_depth': 10, 'rf__ccp_alpha': 0, 'rf_...</td>\n",
       "      <td>0.89</td>\n",
       "    </tr>\n",
       "    <tr>\n",
       "      <th>0</th>\n",
       "      <td>train</td>\n",
       "      <td>grid search</td>\n",
       "      <td>GradientBoostingRegressor(alpha=0.9, ccp_alpha...</td>\n",
       "      <td>{'rf__learning_rate': 0.1, 'rf__n_estimators':...</td>\n",
       "      <td>0.94</td>\n",
       "    </tr>\n",
       "    <tr>\n",
       "      <th>0</th>\n",
       "      <td>test</td>\n",
       "      <td>grid search</td>\n",
       "      <td>GradientBoostingRegressor(alpha=0.9, ccp_alpha...</td>\n",
       "      <td>{'rf__learning_rate': 0.1, 'rf__n_estimators':...</td>\n",
       "      <td>0.89</td>\n",
       "    </tr>\n",
       "    <tr>\n",
       "      <th>0</th>\n",
       "      <td>train</td>\n",
       "      <td>grid search</td>\n",
       "      <td>GradientBoostingRegressor(alpha=0.9, ccp_alpha...</td>\n",
       "      <td>{'rf__learning_rate': 0.1, 'rf__n_estimators':...</td>\n",
       "      <td>0.94</td>\n",
       "    </tr>\n",
       "    <tr>\n",
       "      <th>0</th>\n",
       "      <td>test</td>\n",
       "      <td>grid search</td>\n",
       "      <td>GradientBoostingRegressor(alpha=0.9, ccp_alpha...</td>\n",
       "      <td>{'rf__learning_rate': 0.1, 'rf__n_estimators':...</td>\n",
       "      <td>0.89</td>\n",
       "    </tr>\n",
       "    <tr>\n",
       "      <th>0</th>\n",
       "      <td>train</td>\n",
       "      <td>random search</td>\n",
       "      <td>SVR(C=1.0, cache_size=200, coef0=0.0, degree=3...</td>\n",
       "      <td>{'rf__kernel': 'linear', 'rf__gamma': 'scale',...</td>\n",
       "      <td>0.59</td>\n",
       "    </tr>\n",
       "    <tr>\n",
       "      <th>0</th>\n",
       "      <td>test</td>\n",
       "      <td>random search</td>\n",
       "      <td>SVR(C=1.0, cache_size=200, coef0=0.0, degree=3...</td>\n",
       "      <td>{'rf__kernel': 'linear', 'rf__gamma': 'scale',...</td>\n",
       "      <td>0.52</td>\n",
       "    </tr>\n",
       "    <tr>\n",
       "      <th>0</th>\n",
       "      <td>train</td>\n",
       "      <td>grid search</td>\n",
       "      <td>BaggingRegressor(base_estimator=None, bootstra...</td>\n",
       "      <td>{'rf__base_estimator': None, 'rf__bootstrap_fe...</td>\n",
       "      <td>0.97</td>\n",
       "    </tr>\n",
       "    <tr>\n",
       "      <th>0</th>\n",
       "      <td>test</td>\n",
       "      <td>grid search</td>\n",
       "      <td>BaggingRegressor(base_estimator=None, bootstra...</td>\n",
       "      <td>{'rf__base_estimator': None, 'rf__bootstrap_fe...</td>\n",
       "      <td>0.89</td>\n",
       "    </tr>\n",
       "    <tr>\n",
       "      <th>0</th>\n",
       "      <td>train</td>\n",
       "      <td>random search</td>\n",
       "      <td>BaggingRegressor(base_estimator=None, bootstra...</td>\n",
       "      <td>{'rf__bootstrap_features': False, 'rf__base_es...</td>\n",
       "      <td>0.98</td>\n",
       "    </tr>\n",
       "    <tr>\n",
       "      <th>0</th>\n",
       "      <td>test</td>\n",
       "      <td>random search</td>\n",
       "      <td>BaggingRegressor(base_estimator=None, bootstra...</td>\n",
       "      <td>{'rf__bootstrap_features': False, 'rf__base_es...</td>\n",
       "      <td>0.89</td>\n",
       "    </tr>\n",
       "  </tbody>\n",
       "</table>\n",
       "</div>"
      ],
      "text/plain": [
       "  data type         search                                               name  \\\n",
       "0     train    grid search  RandomForestRegressor(bootstrap=True, ccp_alph...   \n",
       "0      test    grid search  RandomForestRegressor(bootstrap=True, ccp_alph...   \n",
       "0     train  random search  RandomForestRegressor(bootstrap=True, ccp_alph...   \n",
       "0      test  random search  RandomForestRegressor(bootstrap=True, ccp_alph...   \n",
       "0     train    grid search  GradientBoostingRegressor(alpha=0.9, ccp_alpha...   \n",
       "0      test    grid search  GradientBoostingRegressor(alpha=0.9, ccp_alpha...   \n",
       "0     train    grid search  GradientBoostingRegressor(alpha=0.9, ccp_alpha...   \n",
       "0      test    grid search  GradientBoostingRegressor(alpha=0.9, ccp_alpha...   \n",
       "0     train  random search  SVR(C=1.0, cache_size=200, coef0=0.0, degree=3...   \n",
       "0      test  random search  SVR(C=1.0, cache_size=200, coef0=0.0, degree=3...   \n",
       "0     train    grid search  BaggingRegressor(base_estimator=None, bootstra...   \n",
       "0      test    grid search  BaggingRegressor(base_estimator=None, bootstra...   \n",
       "0     train  random search  BaggingRegressor(base_estimator=None, bootstra...   \n",
       "0      test  random search  BaggingRegressor(base_estimator=None, bootstra...   \n",
       "\n",
       "                                           estimator r2 score  \n",
       "0  {'rf__bootstrap': True, 'rf__ccp_alpha': 0, 'r...     0.98  \n",
       "0  {'rf__bootstrap': True, 'rf__ccp_alpha': 0, 'r...     0.90  \n",
       "0  {'rf__max_depth': 10, 'rf__ccp_alpha': 0, 'rf_...     0.98  \n",
       "0  {'rf__max_depth': 10, 'rf__ccp_alpha': 0, 'rf_...     0.89  \n",
       "0  {'rf__learning_rate': 0.1, 'rf__n_estimators':...     0.94  \n",
       "0  {'rf__learning_rate': 0.1, 'rf__n_estimators':...     0.89  \n",
       "0  {'rf__learning_rate': 0.1, 'rf__n_estimators':...     0.94  \n",
       "0  {'rf__learning_rate': 0.1, 'rf__n_estimators':...     0.89  \n",
       "0  {'rf__kernel': 'linear', 'rf__gamma': 'scale',...     0.59  \n",
       "0  {'rf__kernel': 'linear', 'rf__gamma': 'scale',...     0.52  \n",
       "0  {'rf__base_estimator': None, 'rf__bootstrap_fe...     0.97  \n",
       "0  {'rf__base_estimator': None, 'rf__bootstrap_fe...     0.89  \n",
       "0  {'rf__bootstrap_features': False, 'rf__base_es...     0.98  \n",
       "0  {'rf__bootstrap_features': False, 'rf__base_es...     0.89  "
      ]
     },
     "execution_count": 82,
     "metadata": {},
     "output_type": "execute_result"
    }
   ],
   "source": [
    "from sklearn.ensemble import BaggingRegressor\n",
    "from sklearn.svm import SVR\n",
    "\n",
    "param_grid = {'rf__base_estimator': [None, SVR()], 'rf__bootstrap_features': [True, False]} \n",
    "model_performance = grid_search_model(BaggingRegressor(), 'rf', param_grid, model_performance)\n",
    "\n",
    "param_grid = {'rf__base_estimator': [None, SVR()], 'rf__bootstrap_features': [True, False]} \n",
    "model_performance = random_search_model(BaggingRegressor(), 'rf', param_grid, model_performance)\n",
    "\n",
    "model_performance"
   ]
  },
  {
   "cell_type": "markdown",
   "metadata": {},
   "source": [
    "Bagging regressor based on bagging based algorithm, shows good R2 score of 0.89 for the test data. However, grid search seems to perform slightly better than random search. Depending on the priority about training time or score accuracy, grid search is preferred if accuracy performance is most important."
   ]
  },
  {
   "cell_type": "markdown",
   "metadata": {},
   "source": [
    "## 6.3 Boosting Regressor"
   ]
  },
  {
   "cell_type": "code",
   "execution_count": 79,
   "metadata": {},
   "outputs": [
    {
     "name": "stdout",
     "output_type": "stream",
     "text": [
      "Train R2 score : 0.941\n",
      "Test R2 score : 0.891\n",
      "-------- End Grid search --------\n"
     ]
    },
    {
     "data": {
      "text/html": [
       "<div>\n",
       "<style scoped>\n",
       "    .dataframe tbody tr th:only-of-type {\n",
       "        vertical-align: middle;\n",
       "    }\n",
       "\n",
       "    .dataframe tbody tr th {\n",
       "        vertical-align: top;\n",
       "    }\n",
       "\n",
       "    .dataframe thead th {\n",
       "        text-align: right;\n",
       "    }\n",
       "</style>\n",
       "<table border=\"1\" class=\"dataframe\">\n",
       "  <thead>\n",
       "    <tr style=\"text-align: right;\">\n",
       "      <th></th>\n",
       "      <th>data type</th>\n",
       "      <th>search</th>\n",
       "      <th>name</th>\n",
       "      <th>estimator</th>\n",
       "      <th>r2 score</th>\n",
       "    </tr>\n",
       "  </thead>\n",
       "  <tbody>\n",
       "    <tr>\n",
       "      <th>0</th>\n",
       "      <td>train</td>\n",
       "      <td>grid search</td>\n",
       "      <td>RandomForestRegressor(bootstrap=True, ccp_alph...</td>\n",
       "      <td>{'rf__bootstrap': True, 'rf__ccp_alpha': 0, 'r...</td>\n",
       "      <td>0.98</td>\n",
       "    </tr>\n",
       "    <tr>\n",
       "      <th>0</th>\n",
       "      <td>test</td>\n",
       "      <td>grid search</td>\n",
       "      <td>RandomForestRegressor(bootstrap=True, ccp_alph...</td>\n",
       "      <td>{'rf__bootstrap': True, 'rf__ccp_alpha': 0, 'r...</td>\n",
       "      <td>0.90</td>\n",
       "    </tr>\n",
       "    <tr>\n",
       "      <th>0</th>\n",
       "      <td>train</td>\n",
       "      <td>random search</td>\n",
       "      <td>RandomForestRegressor(bootstrap=True, ccp_alph...</td>\n",
       "      <td>{'rf__max_depth': 10, 'rf__ccp_alpha': 0, 'rf_...</td>\n",
       "      <td>0.98</td>\n",
       "    </tr>\n",
       "    <tr>\n",
       "      <th>0</th>\n",
       "      <td>test</td>\n",
       "      <td>random search</td>\n",
       "      <td>RandomForestRegressor(bootstrap=True, ccp_alph...</td>\n",
       "      <td>{'rf__max_depth': 10, 'rf__ccp_alpha': 0, 'rf_...</td>\n",
       "      <td>0.89</td>\n",
       "    </tr>\n",
       "    <tr>\n",
       "      <th>0</th>\n",
       "      <td>train</td>\n",
       "      <td>grid search</td>\n",
       "      <td>GradientBoostingRegressor(alpha=0.9, ccp_alpha...</td>\n",
       "      <td>{'rf__learning_rate': 0.1, 'rf__n_estimators':...</td>\n",
       "      <td>0.94</td>\n",
       "    </tr>\n",
       "    <tr>\n",
       "      <th>0</th>\n",
       "      <td>test</td>\n",
       "      <td>grid search</td>\n",
       "      <td>GradientBoostingRegressor(alpha=0.9, ccp_alpha...</td>\n",
       "      <td>{'rf__learning_rate': 0.1, 'rf__n_estimators':...</td>\n",
       "      <td>0.89</td>\n",
       "    </tr>\n",
       "    <tr>\n",
       "      <th>0</th>\n",
       "      <td>train</td>\n",
       "      <td>grid search</td>\n",
       "      <td>GradientBoostingRegressor(alpha=0.9, ccp_alpha...</td>\n",
       "      <td>{'rf__learning_rate': 0.1, 'rf__n_estimators':...</td>\n",
       "      <td>0.94</td>\n",
       "    </tr>\n",
       "    <tr>\n",
       "      <th>0</th>\n",
       "      <td>test</td>\n",
       "      <td>grid search</td>\n",
       "      <td>GradientBoostingRegressor(alpha=0.9, ccp_alpha...</td>\n",
       "      <td>{'rf__learning_rate': 0.1, 'rf__n_estimators':...</td>\n",
       "      <td>0.89</td>\n",
       "    </tr>\n",
       "  </tbody>\n",
       "</table>\n",
       "</div>"
      ],
      "text/plain": [
       "  data type         search                                               name  \\\n",
       "0     train    grid search  RandomForestRegressor(bootstrap=True, ccp_alph...   \n",
       "0      test    grid search  RandomForestRegressor(bootstrap=True, ccp_alph...   \n",
       "0     train  random search  RandomForestRegressor(bootstrap=True, ccp_alph...   \n",
       "0      test  random search  RandomForestRegressor(bootstrap=True, ccp_alph...   \n",
       "0     train    grid search  GradientBoostingRegressor(alpha=0.9, ccp_alpha...   \n",
       "0      test    grid search  GradientBoostingRegressor(alpha=0.9, ccp_alpha...   \n",
       "0     train    grid search  GradientBoostingRegressor(alpha=0.9, ccp_alpha...   \n",
       "0      test    grid search  GradientBoostingRegressor(alpha=0.9, ccp_alpha...   \n",
       "\n",
       "                                           estimator r2 score  \n",
       "0  {'rf__bootstrap': True, 'rf__ccp_alpha': 0, 'r...     0.98  \n",
       "0  {'rf__bootstrap': True, 'rf__ccp_alpha': 0, 'r...     0.90  \n",
       "0  {'rf__max_depth': 10, 'rf__ccp_alpha': 0, 'rf_...     0.98  \n",
       "0  {'rf__max_depth': 10, 'rf__ccp_alpha': 0, 'rf_...     0.89  \n",
       "0  {'rf__learning_rate': 0.1, 'rf__n_estimators':...     0.94  \n",
       "0  {'rf__learning_rate': 0.1, 'rf__n_estimators':...     0.89  \n",
       "0  {'rf__learning_rate': 0.1, 'rf__n_estimators':...     0.94  \n",
       "0  {'rf__learning_rate': 0.1, 'rf__n_estimators':...     0.89  "
      ]
     },
     "execution_count": 79,
     "metadata": {},
     "output_type": "execute_result"
    }
   ],
   "source": [
    "from sklearn.ensemble import GradientBoostingRegressor\n",
    "\n",
    "param_grid = {'rf__n_estimators': [20, 50, 80], 'rf__learning_rate': [0.1, 1, 100]} \n",
    "model_performance = grid_search_model(GradientBoostingRegressor(), 'rf', param_grid, model_performance)\n",
    "\n",
    "model_performance"
   ]
  },
  {
   "cell_type": "code",
   "execution_count": 80,
   "metadata": {},
   "outputs": [
    {
     "name": "stdout",
     "output_type": "stream",
     "text": [
      "Train R2 score : 0.593\n",
      "Test R2 score : 0.523\n"
     ]
    },
    {
     "data": {
      "text/html": [
       "<div>\n",
       "<style scoped>\n",
       "    .dataframe tbody tr th:only-of-type {\n",
       "        vertical-align: middle;\n",
       "    }\n",
       "\n",
       "    .dataframe tbody tr th {\n",
       "        vertical-align: top;\n",
       "    }\n",
       "\n",
       "    .dataframe thead th {\n",
       "        text-align: right;\n",
       "    }\n",
       "</style>\n",
       "<table border=\"1\" class=\"dataframe\">\n",
       "  <thead>\n",
       "    <tr style=\"text-align: right;\">\n",
       "      <th></th>\n",
       "      <th>data type</th>\n",
       "      <th>search</th>\n",
       "      <th>name</th>\n",
       "      <th>estimator</th>\n",
       "      <th>r2 score</th>\n",
       "    </tr>\n",
       "  </thead>\n",
       "  <tbody>\n",
       "    <tr>\n",
       "      <th>0</th>\n",
       "      <td>train</td>\n",
       "      <td>grid search</td>\n",
       "      <td>RandomForestRegressor(bootstrap=True, ccp_alph...</td>\n",
       "      <td>{'rf__bootstrap': True, 'rf__ccp_alpha': 0, 'r...</td>\n",
       "      <td>0.98</td>\n",
       "    </tr>\n",
       "    <tr>\n",
       "      <th>0</th>\n",
       "      <td>test</td>\n",
       "      <td>grid search</td>\n",
       "      <td>RandomForestRegressor(bootstrap=True, ccp_alph...</td>\n",
       "      <td>{'rf__bootstrap': True, 'rf__ccp_alpha': 0, 'r...</td>\n",
       "      <td>0.90</td>\n",
       "    </tr>\n",
       "    <tr>\n",
       "      <th>0</th>\n",
       "      <td>train</td>\n",
       "      <td>random search</td>\n",
       "      <td>RandomForestRegressor(bootstrap=True, ccp_alph...</td>\n",
       "      <td>{'rf__max_depth': 10, 'rf__ccp_alpha': 0, 'rf_...</td>\n",
       "      <td>0.98</td>\n",
       "    </tr>\n",
       "    <tr>\n",
       "      <th>0</th>\n",
       "      <td>test</td>\n",
       "      <td>random search</td>\n",
       "      <td>RandomForestRegressor(bootstrap=True, ccp_alph...</td>\n",
       "      <td>{'rf__max_depth': 10, 'rf__ccp_alpha': 0, 'rf_...</td>\n",
       "      <td>0.89</td>\n",
       "    </tr>\n",
       "    <tr>\n",
       "      <th>0</th>\n",
       "      <td>train</td>\n",
       "      <td>grid search</td>\n",
       "      <td>GradientBoostingRegressor(alpha=0.9, ccp_alpha...</td>\n",
       "      <td>{'rf__learning_rate': 0.1, 'rf__n_estimators':...</td>\n",
       "      <td>0.94</td>\n",
       "    </tr>\n",
       "    <tr>\n",
       "      <th>0</th>\n",
       "      <td>test</td>\n",
       "      <td>grid search</td>\n",
       "      <td>GradientBoostingRegressor(alpha=0.9, ccp_alpha...</td>\n",
       "      <td>{'rf__learning_rate': 0.1, 'rf__n_estimators':...</td>\n",
       "      <td>0.89</td>\n",
       "    </tr>\n",
       "    <tr>\n",
       "      <th>0</th>\n",
       "      <td>train</td>\n",
       "      <td>grid search</td>\n",
       "      <td>GradientBoostingRegressor(alpha=0.9, ccp_alpha...</td>\n",
       "      <td>{'rf__learning_rate': 0.1, 'rf__n_estimators':...</td>\n",
       "      <td>0.94</td>\n",
       "    </tr>\n",
       "    <tr>\n",
       "      <th>0</th>\n",
       "      <td>test</td>\n",
       "      <td>grid search</td>\n",
       "      <td>GradientBoostingRegressor(alpha=0.9, ccp_alpha...</td>\n",
       "      <td>{'rf__learning_rate': 0.1, 'rf__n_estimators':...</td>\n",
       "      <td>0.89</td>\n",
       "    </tr>\n",
       "    <tr>\n",
       "      <th>0</th>\n",
       "      <td>train</td>\n",
       "      <td>random search</td>\n",
       "      <td>SVR(C=1.0, cache_size=200, coef0=0.0, degree=3...</td>\n",
       "      <td>{'rf__kernel': 'linear', 'rf__gamma': 'scale',...</td>\n",
       "      <td>0.59</td>\n",
       "    </tr>\n",
       "    <tr>\n",
       "      <th>0</th>\n",
       "      <td>test</td>\n",
       "      <td>random search</td>\n",
       "      <td>SVR(C=1.0, cache_size=200, coef0=0.0, degree=3...</td>\n",
       "      <td>{'rf__kernel': 'linear', 'rf__gamma': 'scale',...</td>\n",
       "      <td>0.52</td>\n",
       "    </tr>\n",
       "  </tbody>\n",
       "</table>\n",
       "</div>"
      ],
      "text/plain": [
       "  data type         search                                               name  \\\n",
       "0     train    grid search  RandomForestRegressor(bootstrap=True, ccp_alph...   \n",
       "0      test    grid search  RandomForestRegressor(bootstrap=True, ccp_alph...   \n",
       "0     train  random search  RandomForestRegressor(bootstrap=True, ccp_alph...   \n",
       "0      test  random search  RandomForestRegressor(bootstrap=True, ccp_alph...   \n",
       "0     train    grid search  GradientBoostingRegressor(alpha=0.9, ccp_alpha...   \n",
       "0      test    grid search  GradientBoostingRegressor(alpha=0.9, ccp_alpha...   \n",
       "0     train    grid search  GradientBoostingRegressor(alpha=0.9, ccp_alpha...   \n",
       "0      test    grid search  GradientBoostingRegressor(alpha=0.9, ccp_alpha...   \n",
       "0     train  random search  SVR(C=1.0, cache_size=200, coef0=0.0, degree=3...   \n",
       "0      test  random search  SVR(C=1.0, cache_size=200, coef0=0.0, degree=3...   \n",
       "\n",
       "                                           estimator r2 score  \n",
       "0  {'rf__bootstrap': True, 'rf__ccp_alpha': 0, 'r...     0.98  \n",
       "0  {'rf__bootstrap': True, 'rf__ccp_alpha': 0, 'r...     0.90  \n",
       "0  {'rf__max_depth': 10, 'rf__ccp_alpha': 0, 'rf_...     0.98  \n",
       "0  {'rf__max_depth': 10, 'rf__ccp_alpha': 0, 'rf_...     0.89  \n",
       "0  {'rf__learning_rate': 0.1, 'rf__n_estimators':...     0.94  \n",
       "0  {'rf__learning_rate': 0.1, 'rf__n_estimators':...     0.89  \n",
       "0  {'rf__learning_rate': 0.1, 'rf__n_estimators':...     0.94  \n",
       "0  {'rf__learning_rate': 0.1, 'rf__n_estimators':...     0.89  \n",
       "0  {'rf__kernel': 'linear', 'rf__gamma': 'scale',...     0.59  \n",
       "0  {'rf__kernel': 'linear', 'rf__gamma': 'scale',...     0.52  "
      ]
     },
     "execution_count": 80,
     "metadata": {},
     "output_type": "execute_result"
    }
   ],
   "source": [
    "from sklearn.svm import SVR\n",
    "\n",
    "param_grid = {'rf__gamma': ['scale', 'auto'], 'rf__C': [0, 1], 'rf__kernel': ['linear', 'precomputed']} \n",
    "model_performance = random_search_model(SVR(), 'rf', param_grid, model_performance)\n",
    "\n",
    "model_performance"
   ]
  },
  {
   "cell_type": "markdown",
   "metadata": {},
   "source": [
    "Gradient Boosting Regressor based on boosting based algorithm, shows good R2 score of 0.89 for the test data. However, grid search seems to perform slightly better than random search. Depending on the priority about training time or score accuracy, grid search is preferred if accuracy performance is most important."
   ]
  },
  {
   "cell_type": "markdown",
   "metadata": {},
   "source": [
    "## 7.0 Evaluate best performing model"
   ]
  },
  {
   "cell_type": "markdown",
   "metadata": {},
   "source": [
    "Based on a list of r2 scores generated by various models, Random Forest that uses Grid Search method perform the best compared to other models. However, the the differences between Random Forest, Gradient Boosting, and Bagging are not significant."
   ]
  },
  {
   "cell_type": "code",
   "execution_count": 86,
   "metadata": {},
   "outputs": [
    {
     "data": {
      "text/html": [
       "<div>\n",
       "<style scoped>\n",
       "    .dataframe tbody tr th:only-of-type {\n",
       "        vertical-align: middle;\n",
       "    }\n",
       "\n",
       "    .dataframe tbody tr th {\n",
       "        vertical-align: top;\n",
       "    }\n",
       "\n",
       "    .dataframe thead th {\n",
       "        text-align: right;\n",
       "    }\n",
       "</style>\n",
       "<table border=\"1\" class=\"dataframe\">\n",
       "  <thead>\n",
       "    <tr style=\"text-align: right;\">\n",
       "      <th></th>\n",
       "      <th>data type</th>\n",
       "      <th>search</th>\n",
       "      <th>name</th>\n",
       "      <th>estimator</th>\n",
       "      <th>r2 score</th>\n",
       "    </tr>\n",
       "  </thead>\n",
       "  <tbody>\n",
       "    <tr>\n",
       "      <th>0</th>\n",
       "      <td>test</td>\n",
       "      <td>grid search</td>\n",
       "      <td>RandomForestRegressor(bootstrap=True, ccp_alph...</td>\n",
       "      <td>{'rf__bootstrap': True, 'rf__ccp_alpha': 0, 'r...</td>\n",
       "      <td>0.90</td>\n",
       "    </tr>\n",
       "    <tr>\n",
       "      <th>0</th>\n",
       "      <td>test</td>\n",
       "      <td>random search</td>\n",
       "      <td>RandomForestRegressor(bootstrap=True, ccp_alph...</td>\n",
       "      <td>{'rf__max_depth': 10, 'rf__ccp_alpha': 0, 'rf_...</td>\n",
       "      <td>0.89</td>\n",
       "    </tr>\n",
       "    <tr>\n",
       "      <th>0</th>\n",
       "      <td>test</td>\n",
       "      <td>grid search</td>\n",
       "      <td>GradientBoostingRegressor(alpha=0.9, ccp_alpha...</td>\n",
       "      <td>{'rf__learning_rate': 0.1, 'rf__n_estimators':...</td>\n",
       "      <td>0.89</td>\n",
       "    </tr>\n",
       "    <tr>\n",
       "      <th>0</th>\n",
       "      <td>test</td>\n",
       "      <td>grid search</td>\n",
       "      <td>GradientBoostingRegressor(alpha=0.9, ccp_alpha...</td>\n",
       "      <td>{'rf__learning_rate': 0.1, 'rf__n_estimators':...</td>\n",
       "      <td>0.89</td>\n",
       "    </tr>\n",
       "    <tr>\n",
       "      <th>0</th>\n",
       "      <td>test</td>\n",
       "      <td>grid search</td>\n",
       "      <td>BaggingRegressor(base_estimator=None, bootstra...</td>\n",
       "      <td>{'rf__base_estimator': None, 'rf__bootstrap_fe...</td>\n",
       "      <td>0.89</td>\n",
       "    </tr>\n",
       "    <tr>\n",
       "      <th>0</th>\n",
       "      <td>test</td>\n",
       "      <td>random search</td>\n",
       "      <td>BaggingRegressor(base_estimator=None, bootstra...</td>\n",
       "      <td>{'rf__bootstrap_features': False, 'rf__base_es...</td>\n",
       "      <td>0.89</td>\n",
       "    </tr>\n",
       "    <tr>\n",
       "      <th>0</th>\n",
       "      <td>test</td>\n",
       "      <td>random search</td>\n",
       "      <td>SVR(C=1.0, cache_size=200, coef0=0.0, degree=3...</td>\n",
       "      <td>{'rf__kernel': 'linear', 'rf__gamma': 'scale',...</td>\n",
       "      <td>0.52</td>\n",
       "    </tr>\n",
       "  </tbody>\n",
       "</table>\n",
       "</div>"
      ],
      "text/plain": [
       "  data type         search                                               name  \\\n",
       "0      test    grid search  RandomForestRegressor(bootstrap=True, ccp_alph...   \n",
       "0      test  random search  RandomForestRegressor(bootstrap=True, ccp_alph...   \n",
       "0      test    grid search  GradientBoostingRegressor(alpha=0.9, ccp_alpha...   \n",
       "0      test    grid search  GradientBoostingRegressor(alpha=0.9, ccp_alpha...   \n",
       "0      test    grid search  BaggingRegressor(base_estimator=None, bootstra...   \n",
       "0      test  random search  BaggingRegressor(base_estimator=None, bootstra...   \n",
       "0      test  random search  SVR(C=1.0, cache_size=200, coef0=0.0, degree=3...   \n",
       "\n",
       "                                           estimator r2 score  \n",
       "0  {'rf__bootstrap': True, 'rf__ccp_alpha': 0, 'r...     0.90  \n",
       "0  {'rf__max_depth': 10, 'rf__ccp_alpha': 0, 'rf_...     0.89  \n",
       "0  {'rf__learning_rate': 0.1, 'rf__n_estimators':...     0.89  \n",
       "0  {'rf__learning_rate': 0.1, 'rf__n_estimators':...     0.89  \n",
       "0  {'rf__base_estimator': None, 'rf__bootstrap_fe...     0.89  \n",
       "0  {'rf__bootstrap_features': False, 'rf__base_es...     0.89  \n",
       "0  {'rf__kernel': 'linear', 'rf__gamma': 'scale',...     0.52  "
      ]
     },
     "execution_count": 86,
     "metadata": {},
     "output_type": "execute_result"
    }
   ],
   "source": [
    "model_performance[(model_performance['data type']=='test')].sort_values(by=['r2 score'], ascending=False)"
   ]
  },
  {
   "cell_type": "markdown",
   "metadata": {},
   "source": [
    "Based on a list of r2 scores generated by various models, Random Forest has the highest difference between train vs test r2 score, which means the highest overfitting compared to other models. Gradient Boosting has the least difference between train and test r2 score, which indicating the least overfitting compared to other models."
   ]
  },
  {
   "cell_type": "code",
   "execution_count": 88,
   "metadata": {},
   "outputs": [
    {
     "data": {
      "text/html": [
       "<div>\n",
       "<style scoped>\n",
       "    .dataframe tbody tr th:only-of-type {\n",
       "        vertical-align: middle;\n",
       "    }\n",
       "\n",
       "    .dataframe tbody tr th {\n",
       "        vertical-align: top;\n",
       "    }\n",
       "\n",
       "    .dataframe thead th {\n",
       "        text-align: right;\n",
       "    }\n",
       "</style>\n",
       "<table border=\"1\" class=\"dataframe\">\n",
       "  <thead>\n",
       "    <tr style=\"text-align: right;\">\n",
       "      <th></th>\n",
       "      <th>data type</th>\n",
       "      <th>search</th>\n",
       "      <th>name</th>\n",
       "      <th>estimator</th>\n",
       "      <th>r2 score</th>\n",
       "    </tr>\n",
       "  </thead>\n",
       "  <tbody>\n",
       "    <tr>\n",
       "      <th>0</th>\n",
       "      <td>train</td>\n",
       "      <td>grid search</td>\n",
       "      <td>RandomForestRegressor(bootstrap=True, ccp_alph...</td>\n",
       "      <td>{'rf__bootstrap': True, 'rf__ccp_alpha': 0, 'r...</td>\n",
       "      <td>0.98</td>\n",
       "    </tr>\n",
       "    <tr>\n",
       "      <th>0</th>\n",
       "      <td>train</td>\n",
       "      <td>random search</td>\n",
       "      <td>RandomForestRegressor(bootstrap=True, ccp_alph...</td>\n",
       "      <td>{'rf__max_depth': 10, 'rf__ccp_alpha': 0, 'rf_...</td>\n",
       "      <td>0.98</td>\n",
       "    </tr>\n",
       "    <tr>\n",
       "      <th>0</th>\n",
       "      <td>train</td>\n",
       "      <td>random search</td>\n",
       "      <td>BaggingRegressor(base_estimator=None, bootstra...</td>\n",
       "      <td>{'rf__bootstrap_features': False, 'rf__base_es...</td>\n",
       "      <td>0.98</td>\n",
       "    </tr>\n",
       "    <tr>\n",
       "      <th>0</th>\n",
       "      <td>train</td>\n",
       "      <td>grid search</td>\n",
       "      <td>BaggingRegressor(base_estimator=None, bootstra...</td>\n",
       "      <td>{'rf__base_estimator': None, 'rf__bootstrap_fe...</td>\n",
       "      <td>0.97</td>\n",
       "    </tr>\n",
       "    <tr>\n",
       "      <th>0</th>\n",
       "      <td>train</td>\n",
       "      <td>grid search</td>\n",
       "      <td>GradientBoostingRegressor(alpha=0.9, ccp_alpha...</td>\n",
       "      <td>{'rf__learning_rate': 0.1, 'rf__n_estimators':...</td>\n",
       "      <td>0.94</td>\n",
       "    </tr>\n",
       "    <tr>\n",
       "      <th>0</th>\n",
       "      <td>train</td>\n",
       "      <td>grid search</td>\n",
       "      <td>GradientBoostingRegressor(alpha=0.9, ccp_alpha...</td>\n",
       "      <td>{'rf__learning_rate': 0.1, 'rf__n_estimators':...</td>\n",
       "      <td>0.94</td>\n",
       "    </tr>\n",
       "    <tr>\n",
       "      <th>0</th>\n",
       "      <td>train</td>\n",
       "      <td>random search</td>\n",
       "      <td>SVR(C=1.0, cache_size=200, coef0=0.0, degree=3...</td>\n",
       "      <td>{'rf__kernel': 'linear', 'rf__gamma': 'scale',...</td>\n",
       "      <td>0.59</td>\n",
       "    </tr>\n",
       "  </tbody>\n",
       "</table>\n",
       "</div>"
      ],
      "text/plain": [
       "  data type         search                                               name  \\\n",
       "0     train    grid search  RandomForestRegressor(bootstrap=True, ccp_alph...   \n",
       "0     train  random search  RandomForestRegressor(bootstrap=True, ccp_alph...   \n",
       "0     train  random search  BaggingRegressor(base_estimator=None, bootstra...   \n",
       "0     train    grid search  BaggingRegressor(base_estimator=None, bootstra...   \n",
       "0     train    grid search  GradientBoostingRegressor(alpha=0.9, ccp_alpha...   \n",
       "0     train    grid search  GradientBoostingRegressor(alpha=0.9, ccp_alpha...   \n",
       "0     train  random search  SVR(C=1.0, cache_size=200, coef0=0.0, degree=3...   \n",
       "\n",
       "                                           estimator r2 score  \n",
       "0  {'rf__bootstrap': True, 'rf__ccp_alpha': 0, 'r...     0.98  \n",
       "0  {'rf__max_depth': 10, 'rf__ccp_alpha': 0, 'rf_...     0.98  \n",
       "0  {'rf__bootstrap_features': False, 'rf__base_es...     0.98  \n",
       "0  {'rf__base_estimator': None, 'rf__bootstrap_fe...     0.97  \n",
       "0  {'rf__learning_rate': 0.1, 'rf__n_estimators':...     0.94  \n",
       "0  {'rf__learning_rate': 0.1, 'rf__n_estimators':...     0.94  \n",
       "0  {'rf__kernel': 'linear', 'rf__gamma': 'scale',...     0.59  "
      ]
     },
     "execution_count": 88,
     "metadata": {},
     "output_type": "execute_result"
    }
   ],
   "source": [
    "model_performance[(model_performance['data type']=='train')].sort_values(by=['r2 score'], ascending=False)"
   ]
  },
  {
   "cell_type": "markdown",
   "metadata": {},
   "source": [
    "# 8.0 Further Fine Tuning"
   ]
  },
  {
   "cell_type": "markdown",
   "metadata": {},
   "source": [
    "After observing some outlier numbers in the features, it could be a good idea to try to use log function to reduce distances of the values of the features. <br>\n",
    "\n",
    "However, we don't observe significant improvement in r2 value after trans"
   ]
  },
  {
   "cell_type": "code",
   "execution_count": 90,
   "metadata": {},
   "outputs": [],
   "source": [
    "def transform_data(df, features_to_remove_outlier):\n",
    "    for feature in features_to_remove_outlier:\n",
    "        if df[feature].dtype == 'int64': # Look for integer data series\n",
    "            if np.min(df[feature])>0:\n",
    "                print(feature)\n",
    "                df[feature] = np.log1p(df[feature])\n",
    "                \n",
    "    return df\n",
    "\n",
    "concrete_data_log = concrete_data.copy(deep=True)\n",
    "for feature in concrete_data_log.columns:\n",
    "    concrete_data_log[feature] = np.log1p(concrete_data_log[feature])"
   ]
  },
  {
   "cell_type": "code",
   "execution_count": 91,
   "metadata": {},
   "outputs": [
    {
     "name": "stdout",
     "output_type": "stream",
     "text": [
      "Train R2 score : 0.98\n",
      "Test R2 score : 0.89\n",
      "-------- End Grid search --------\n",
      "Train R2 score : 0.98\n",
      "Test R2 score : 0.89\n"
     ]
    }
   ],
   "source": [
    "from sklearn.model_selection import train_test_split\n",
    "\n",
    "X = concrete_data_log.loc[:, concrete_data_log.columns != 'strength']\n",
    "y = concrete_data_log['strength']\n",
    "X_train, X_test, y_train, y_test = train_test_split(X, y, test_size = .30, random_state=0)\n",
    "\n",
    "\n",
    "from sklearn.model_selection import GridSearchCV, RandomizedSearchCV\n",
    "from sklearn.ensemble import RandomForestRegressor\n",
    "from sklearn.preprocessing import StandardScaler \n",
    "from sklearn.metrics import r2_score\n",
    "\n",
    "def grid_search_model(model_type, model_name, param_grid):\n",
    "    pipe_svc = Pipeline([('scl', StandardScaler()), (model_name, model_type)]) \n",
    "    grid = GridSearchCV(pipe_svc , param_grid = param_grid, cv = 5) \n",
    "    grid_fit = grid.fit(X_train, y_train) \n",
    "    y_train_pred = grid.predict(X_train)\n",
    "    y_test_pred = grid.predict(X_test)\n",
    "    \n",
    "    print(\"Train R2 score : {:.2f}\". format(r2_score(y_train, y_train_pred))) \n",
    "    print(\"Test R2 score : {:.2f}\". format(r2_score(y_test, y_test_pred))) \n",
    "    \n",
    "    print(\"-------- End Grid search --------\")\n",
    "    \n",
    "def random_search_model(model_type, model_name, distributions):\n",
    "    pipe_svc = Pipeline([('scl', StandardScaler()), (model_name, model_type)]) \n",
    "    grid = RandomizedSearchCV(pipe_svc , distributions, cv = 5) \n",
    "    grid_fit = grid.fit(X_train, y_train) \n",
    "    y_train_pred = grid.predict(X_train)\n",
    "    y_test_pred = grid.predict(X_test)\n",
    "    \n",
    "    print(\"Train R2 score : {:.2f}\". format(r2_score(y_train, y_train_pred))) \n",
    "    print(\"Test R2 score : {:.2f}\". format(r2_score(y_test, y_test_pred))) \n",
    "                \n",
    "from sklearn.model_selection import GridSearchCV\n",
    "from sklearn.ensemble import RandomForestClassifier\n",
    "\n",
    "param_grid = {'rf__max_depth': [3, 4, 5, 6, 7, 8, 9, 10], 'rf__bootstrap':[True,False], 'rf__ccp_alpha':[0, 1, 2]} \n",
    "grid_search_model(RandomForestRegressor(), 'rf', param_grid)\n",
    "param_grid = {'rf__max_depth': [3, 10], 'rf__bootstrap':[True,False], 'rf__ccp_alpha':[0, 1, 2]} \n",
    "random_search_model(RandomForestRegressor(), 'rf', param_grid)"
   ]
  },
  {
   "cell_type": "code",
   "execution_count": null,
   "metadata": {},
   "outputs": [],
   "source": []
  }
 ],
 "metadata": {
  "kernelspec": {
   "display_name": "Python 3",
   "language": "python",
   "name": "python3"
  },
  "language_info": {
   "codemirror_mode": {
    "name": "ipython",
    "version": 3
   },
   "file_extension": ".py",
   "mimetype": "text/x-python",
   "name": "python",
   "nbconvert_exporter": "python",
   "pygments_lexer": "ipython3",
   "version": "3.7.1"
  }
 },
 "nbformat": 4,
 "nbformat_minor": 2
}
